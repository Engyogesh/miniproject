{
  "nbformat": 4,
  "nbformat_minor": 0,
  "metadata": {
    "colab": {
      "provenance": [],
      "authorship_tag": "ABX9TyPGdb0AfzAdhULbJUZTA/uK",
      "include_colab_link": true
    },
    "kernelspec": {
      "name": "python3",
      "display_name": "Python 3"
    },
    "language_info": {
      "name": "python"
    }
  },
  "cells": [
    {
      "cell_type": "markdown",
      "metadata": {
        "id": "view-in-github",
        "colab_type": "text"
      },
      "source": [
        "<a href=\"https://colab.research.google.com/github/Engyogesh/miniproject/blob/main/HR_MiniProject.ipynb\" target=\"_parent\"><img src=\"https://colab.research.google.com/assets/colab-badge.svg\" alt=\"Open In Colab\"/></a>"
      ]
    },
    {
      "cell_type": "code",
      "execution_count": null,
      "metadata": {
        "id": "SOqvMOE_sGQR"
      },
      "outputs": [],
      "source": []
    },
    {
      "cell_type": "code",
      "execution_count": 1,
      "metadata": {
        "colab": {
          "base_uri": "https://localhost:8080/"
        },
        "id": "rfFjFslx3DXt",
        "outputId": "bd7ec64d-cefa-42e1-ebfd-3184cd5828e1"
      },
      "outputs": [
        {
          "output_type": "stream",
          "name": "stdout",
          "text": [
            "    satisfaction_level  last_evaluation  number_project  average_montly_hours  \\\n",
            "0                 0.38             0.53               2                   157   \n",
            "1                 0.80             0.86               5                   262   \n",
            "2                 0.11             0.88               7                   272   \n",
            "3                 0.72             0.87               5                   223   \n",
            "4                 0.37             0.52               2                   159   \n",
            "5                 0.41             0.50               2                   153   \n",
            "6                 0.10             0.77               6                   247   \n",
            "7                 0.92             0.85               5                   259   \n",
            "8                 0.89             1.00               5                   224   \n",
            "9                 0.42             0.53               2                   142   \n",
            "10                0.45             0.54               2                   135   \n",
            "11                0.11             0.81               6                   305   \n",
            "12                0.84             0.92               4                   234   \n",
            "13                0.41             0.55               2                   148   \n",
            "14                0.36             0.56               2                   137   \n",
            "15                0.38             0.54               2                   143   \n",
            "16                0.45             0.47               2                   160   \n",
            "17                0.78             0.99               4                   255   \n",
            "18                0.45             0.51               2                   160   \n",
            "19                0.76             0.89               5                   262   \n",
            "20                0.11             0.83               6                   282   \n",
            "21                0.38             0.55               2                   147   \n",
            "22                0.09             0.95               6                   304   \n",
            "23                0.46             0.57               2                   139   \n",
            "24                0.40             0.53               2                   158   \n",
            "25                0.89             0.92               5                   242   \n",
            "26                0.40             0.49               2                   135   \n",
            "27                0.82             0.87               4                   239   \n",
            "28                0.41             0.46               2                   128   \n",
            "29                0.38             0.50               2                   132   \n",
            "30                0.09             0.62               6                   294   \n",
            "31                0.45             0.57               2                   134   \n",
            "32                0.40             0.51               2                   145   \n",
            "33                0.45             0.55               2                   140   \n",
            "34                0.84             0.87               4                   246   \n",
            "35                0.10             0.94               6                   255   \n",
            "36                0.38             0.46               2                   137   \n",
            "37                0.45             0.50               2                   126   \n",
            "38                0.11             0.89               6                 30655   \n",
            "\n",
            "    time_spend_company  Work_accident  left  promotion_last_5years  \\\n",
            "0                    3              0     1                      0   \n",
            "1                    6              0     1                      0   \n",
            "2                    4              0     1                      0   \n",
            "3                    5              0     1                      0   \n",
            "4                    3              0     1                      0   \n",
            "5                    3              0     1                      0   \n",
            "6                    4              0     1                      0   \n",
            "7                    5              0     1                      0   \n",
            "8                    5              0     1                      0   \n",
            "9                    3              0     1                      0   \n",
            "10                   3              0     1                      0   \n",
            "11                   4              0     1                      0   \n",
            "12                   5              0     1                      0   \n",
            "13                   3              0     1                      0   \n",
            "14                   3              0     1                      0   \n",
            "15                   3              0     1                      0   \n",
            "16                   3              0     1                      0   \n",
            "17                   6              0     1                      0   \n",
            "18                   3              1     1                      1   \n",
            "19                   5              0     1                      0   \n",
            "20                   4              0     1                      0   \n",
            "21                   3              0     1                      0   \n",
            "22                   4              0     1                      0   \n",
            "23                   3              0     1                      0   \n",
            "24                   3              0     1                      0   \n",
            "25                   5              0     1                      0   \n",
            "26                   3              0     1                      0   \n",
            "27                   5              0     1                      0   \n",
            "28                   3              0     1                      0   \n",
            "29                   3              0     1                      0   \n",
            "30                   4              0     1                      0   \n",
            "31                   3              0     1                      0   \n",
            "32                   3              0     1                      0   \n",
            "33                   3              0     1                      0   \n",
            "34                   6              0     1                      0   \n",
            "35                   4              0     1                      0   \n",
            "36                   3              0     1                      0   \n",
            "37                   3              0     1                      0   \n",
            "38                   4              0     1                      0   \n",
            "\n",
            "         sales  salary  \n",
            "0        sales     low  \n",
            "1        sales  medium  \n",
            "2        sales  medium  \n",
            "3        sales     low  \n",
            "4        sales     low  \n",
            "5        sales     low  \n",
            "6        sales     low  \n",
            "7        sales     low  \n",
            "8        sales     low  \n",
            "9        sales     low  \n",
            "10       sales     low  \n",
            "11       sales     low  \n",
            "12       sales     low  \n",
            "13       sales     low  \n",
            "14       sales     low  \n",
            "15       sales     low  \n",
            "16       sales     low  \n",
            "17       sales     low  \n",
            "18       sales     low  \n",
            "19       sales     low  \n",
            "20       sales     low  \n",
            "21       sales     low  \n",
            "22       sales     low  \n",
            "23       sales     low  \n",
            "24       sales     low  \n",
            "25       sales     low  \n",
            "26       sales     low  \n",
            "27       sales     low  \n",
            "28  accounting     low  \n",
            "29  accounting     low  \n",
            "30  accounting     low  \n",
            "31          hr     low  \n",
            "32          hr     low  \n",
            "33          hr     low  \n",
            "34          hr     low  \n",
            "35  techanical     low  \n",
            "36  techanical     low  \n",
            "37  techanical     low  \n",
            "38  techanical     low  \n"
          ]
        }
      ],
      "source": [
        "\n",
        "import pandas as ref\n",
        "\n",
        "\n",
        "# Creating the DataFrame from the given data\n",
        "data = [\n",
        "    {\"satisfaction_level\": 0.38, \"last_evaluation\": 0.53, \"number_project\": 2, \"average_montly_hours\": 157, \"time_spend_company\": 3, \"Work_accident\": 0, \"left\": 1, \"promotion_last_5years\": 0, \"sales\": \"sales\", \"salary\": \"low\"},\n",
        "    {\"satisfaction_level\": 0.8, \"last_evaluation\": 0.86, \"number_project\": 5, \"average_montly_hours\": 262, \"time_spend_company\": 6, \"Work_accident\": 0, \"left\": 1, \"promotion_last_5years\": 0, \"sales\": \"sales\", \"salary\": \"medium\"},\n",
        "    {\"satisfaction_level\": 0.11, \"last_evaluation\": 0.88, \"number_project\": 7, \"average_montly_hours\": 272, \"time_spend_company\": 4, \"Work_accident\": 0, \"left\": 1, \"promotion_last_5years\": 0, \"sales\": \"sales\", \"salary\": \"medium\"},\n",
        "    {\"satisfaction_level\": 0.72, \"last_evaluation\": 0.87, \"number_project\": 5, \"average_montly_hours\": 223, \"time_spend_company\": 5, \"Work_accident\": 0, \"left\": 1, \"promotion_last_5years\": 0, \"sales\": \"sales\", \"salary\": \"low\"},\n",
        "    {\"satisfaction_level\": 0.37, \"last_evaluation\": 0.52, \"number_project\": 2, \"average_montly_hours\": 159, \"time_spend_company\": 3, \"Work_accident\": 0, \"left\": 1, \"promotion_last_5years\": 0, \"sales\": \"sales\", \"salary\": \"low\"},\n",
        "    {\"satisfaction_level\": 0.41, \"last_evaluation\": 0.5, \"number_project\": 2, \"average_montly_hours\": 153, \"time_spend_company\": 3, \"Work_accident\": 0, \"left\": 1, \"promotion_last_5years\": 0, \"sales\": \"sales\", \"salary\": \"low\"},\n",
        "    {\"satisfaction_level\": 0.1, \"last_evaluation\": 0.77, \"number_project\": 6, \"average_montly_hours\": 247, \"time_spend_company\": 4, \"Work_accident\": 0, \"left\": 1, \"promotion_last_5years\": 0, \"sales\": \"sales\", \"salary\": \"low\"},\n",
        "    {\"satisfaction_level\": 0.92, \"last_evaluation\": 0.85, \"number_project\": 5, \"average_montly_hours\": 259, \"time_spend_company\": 5, \"Work_accident\": 0, \"left\": 1, \"promotion_last_5years\": 0, \"sales\": \"sales\", \"salary\": \"low\"},\n",
        "    {\"satisfaction_level\": 0.89, \"last_evaluation\": 1, \"number_project\": 5, \"average_montly_hours\": 224, \"time_spend_company\": 5, \"Work_accident\": 0, \"left\": 1, \"promotion_last_5years\": 0, \"sales\": \"sales\", \"salary\": \"low\"},\n",
        "    {\"satisfaction_level\": 0.42, \"last_evaluation\": 0.53, \"number_project\": 2, \"average_montly_hours\": 142, \"time_spend_company\": 3, \"Work_accident\": 0, \"left\": 1, \"promotion_last_5years\": 0, \"sales\": \"sales\", \"salary\": \"low\"},\n",
        "    {\"satisfaction_level\": 0.45, \"last_evaluation\": 0.54, \"number_project\": 2, \"average_montly_hours\": 135, \"time_spend_company\": 3, \"Work_accident\": 0, \"left\": 1, \"promotion_last_5years\": 0, \"sales\": \"sales\", \"salary\": \"low\"},\n",
        "    {\"satisfaction_level\": 0.11, \"last_evaluation\": 0.81, \"number_project\": 6, \"average_montly_hours\": 305, \"time_spend_company\": 4, \"Work_accident\": 0, \"left\": 1, \"promotion_last_5years\": 0, \"sales\": \"sales\", \"salary\": \"low\"},\n",
        "    {\"satisfaction_level\": 0.84, \"last_evaluation\": 0.92, \"number_project\": 4, \"average_montly_hours\": 234, \"time_spend_company\": 5, \"Work_accident\": 0, \"left\": 1, \"promotion_last_5years\": 0, \"sales\": \"sales\", \"salary\": \"low\"},\n",
        "    {\"satisfaction_level\": 0.41, \"last_evaluation\": 0.55, \"number_project\": 2, \"average_montly_hours\": 148, \"time_spend_company\": 3, \"Work_accident\": 0, \"left\": 1, \"promotion_last_5years\": 0, \"sales\": \"sales\", \"salary\": \"low\"},\n",
        "    {\"satisfaction_level\": 0.36, \"last_evaluation\": 0.56, \"number_project\": 2, \"average_montly_hours\": 137, \"time_spend_company\": 3, \"Work_accident\": 0, \"left\": 1, \"promotion_last_5years\": 0, \"sales\": \"sales\", \"salary\": \"low\"},\n",
        "    {\"satisfaction_level\": 0.38, \"last_evaluation\": 0.54, \"number_project\": 2, \"average_montly_hours\": 143, \"time_spend_company\": 3, \"Work_accident\": 0, \"left\": 1, \"promotion_last_5years\": 0, \"sales\": \"sales\", \"salary\": \"low\"},\n",
        "    {\"satisfaction_level\": 0.45, \"last_evaluation\": 0.47, \"number_project\": 2, \"average_montly_hours\": 160, \"time_spend_company\": 3, \"Work_accident\": 0, \"left\": 1, \"promotion_last_5years\": 0, \"sales\": \"sales\", \"salary\": \"low\"},\n",
        "    {\"satisfaction_level\": 0.78, \"last_evaluation\": 0.99, \"number_project\": 4, \"average_montly_hours\": 255, \"time_spend_company\": 6, \"Work_accident\": 0, \"left\": 1, \"promotion_last_5years\": 0, \"sales\": \"sales\", \"salary\": \"low\"},\n",
        "    {\"satisfaction_level\": 0.45, \"last_evaluation\": 0.51, \"number_project\": 2, \"average_montly_hours\": 160, \"time_spend_company\": 3, \"Work_accident\": 1, \"left\": 1, \"promotion_last_5years\": 1, \"sales\": \"sales\", \"salary\": \"low\"},\n",
        "    {\"satisfaction_level\": 0.76, \"last_evaluation\": 0.89, \"number_project\": 5, \"average_montly_hours\": 262, \"time_spend_company\": 5, \"Work_accident\": 0, \"left\": 1, \"promotion_last_5years\": 0, \"sales\": \"sales\", \"salary\": \"low\"},\n",
        "    {\"satisfaction_level\": 0.11, \"last_evaluation\": 0.83, \"number_project\": 6, \"average_montly_hours\": 282, \"time_spend_company\": 4, \"Work_accident\": 0, \"left\": 1, \"promotion_last_5years\": 0, \"sales\": \"sales\", \"salary\": \"low\"},\n",
        "    {\"satisfaction_level\": 0.38, \"last_evaluation\": 0.55, \"number_project\": 2, \"average_montly_hours\": 147, \"time_spend_company\": 3, \"Work_accident\": 0, \"left\": 1, \"promotion_last_5years\": 0, \"sales\": \"sales\", \"salary\": \"low\"},\n",
        "    {\"satisfaction_level\": 0.09, \"last_evaluation\": 0.95, \"number_project\": 6, \"average_montly_hours\": 304, \"time_spend_company\": 4, \"Work_accident\": 0, \"left\": 1, \"promotion_last_5years\": 0, \"sales\": \"sales\", \"salary\": \"low\"},\n",
        "    {\"satisfaction_level\": 0.46, \"last_evaluation\": 0.57, \"number_project\": 2, \"average_montly_hours\": 139, \"time_spend_company\": 3, \"Work_accident\": 0, \"left\": 1, \"promotion_last_5years\": 0, \"sales\": \"sales\", \"salary\": \"low\"},\n",
        "    {\"satisfaction_level\": 0.4, \"last_evaluation\": 0.53, \"number_project\": 2, \"average_montly_hours\": 158, \"time_spend_company\": 3, \"Work_accident\": 0, \"left\": 1, \"promotion_last_5years\": 0, \"sales\": \"sales\", \"salary\": \"low\"},\n",
        "    {\"satisfaction_level\": 0.89, \"last_evaluation\": 0.92, \"number_project\": 5, \"average_montly_hours\": 242, \"time_spend_company\": 5, \"Work_accident\": 0, \"left\": 1, \"promotion_last_5years\": 0, \"sales\": \"sales\", \"salary\": \"low\"},\n",
        "    {\"satisfaction_level\": 0.4, \"last_evaluation\": 0.49, \"number_project\": 2, \"average_montly_hours\": 135, \"time_spend_company\": 3, \"Work_accident\": 0, \"left\": 1, \"promotion_last_5years\": 0, \"sales\": \"sales\", \"salary\": \"low\"},\n",
        "    {\"satisfaction_level\": 0.82, \"last_evaluation\": 0.87, \"number_project\": 4, \"average_montly_hours\": 239, \"time_spend_company\": 5, \"Work_accident\": 0, \"left\": 1, \"promotion_last_5years\": 0, \"sales\": \"sales\", \"salary\": \"low\"},\n",
        "    {\"satisfaction_level\": 0.41, \"last_evaluation\": 0.46, \"number_project\": 2, \"average_montly_hours\": 128, \"time_spend_company\": 3, \"Work_accident\": 0, \"left\": 1, \"promotion_last_5years\": 0, \"sales\": \"accounting\", \"salary\": \"low\"},\n",
        "    {\"satisfaction_level\": 0.38, \"last_evaluation\": 0.5, \"number_project\": 2, \"average_montly_hours\": 132, \"time_spend_company\": 3, \"Work_accident\": 0, \"left\": 1, \"promotion_last_5years\": 0, \"sales\": \"accounting\", \"salary\": \"low\"},\n",
        "    {\"satisfaction_level\": 0.09, \"last_evaluation\": 0.62, \"number_project\": 6, \"average_montly_hours\": 294, \"time_spend_company\": 4, \"Work_accident\": 0, \"left\": 1, \"promotion_last_5years\": 0, \"sales\": \"accounting\", \"salary\": \"low\"},\n",
        "    {\"satisfaction_level\": 0.45, \"last_evaluation\": 0.57, \"number_project\": 2, \"average_montly_hours\": 134, \"time_spend_company\": 3, \"Work_accident\": 0, \"left\": 1, \"promotion_last_5years\": 0, \"sales\": \"hr\", \"salary\": \"low\"},\n",
        "    {\"satisfaction_level\": 0.4, \"last_evaluation\": 0.51, \"number_project\": 2, \"average_montly_hours\": 145, \"time_spend_company\": 3, \"Work_accident\": 0, \"left\": 1, \"promotion_last_5years\": 0, \"sales\": \"hr\", \"salary\": \"low\"},\n",
        "    {\"satisfaction_level\": 0.45, \"last_evaluation\": 0.55, \"number_project\": 2, \"average_montly_hours\": 140, \"time_spend_company\": 3, \"Work_accident\": 0, \"left\": 1, \"promotion_last_5years\": 0, \"sales\": \"hr\", \"salary\": \"low\"},\n",
        "    {\"satisfaction_level\": 0.84, \"last_evaluation\": 0.87, \"number_project\": 4, \"average_montly_hours\": 246, \"time_spend_company\": 6, \"Work_accident\": 0, \"left\": 1, \"promotion_last_5years\": 0, \"sales\": \"hr\", \"salary\": \"low\"},\n",
        "    {\"satisfaction_level\": 0.1, \"last_evaluation\": 0.94, \"number_project\": 6, \"average_montly_hours\": 255, \"time_spend_company\": 4, \"Work_accident\": 0, \"left\": 1, \"promotion_last_5years\": 0, \"sales\": \"techanical\", \"salary\": \"low\"},\n",
        "    {\"satisfaction_level\": 0.38, \"last_evaluation\": 0.46, \"number_project\": 2, \"average_montly_hours\": 137, \"time_spend_company\": 3, \"Work_accident\": 0, \"left\": 1, \"promotion_last_5years\": 0, \"sales\": \"techanical\", \"salary\": \"low\"},\n",
        "    {\"satisfaction_level\": 0.45, \"last_evaluation\": 0.5, \"number_project\": 2, \"average_montly_hours\": 126, \"time_spend_company\": 3, \"Work_accident\": 0, \"left\": 1, \"promotion_last_5years\": 0, \"sales\": \"techanical\", \"salary\": \"low\"},\n",
        "    {\"satisfaction_level\": 0.11, \"last_evaluation\": 0.89, \"number_project\": 6, \"average_montly_hours\": 30655, \"time_spend_company\": 4, \"Work_accident\": 0, \"left\": 1, \"promotion_last_5years\": 0, \"sales\": \"techanical\", \"salary\": \"low\"}\n",
        "]\n",
        "\n",
        "df = ref.DataFrame(data)\n",
        "print(df)\n"
      ]
    },
    {
      "cell_type": "code",
      "source": [
        "import pandas as pd\n",
        "from tabulate import tabulate"
      ],
      "metadata": {
        "id": "2_n3N3ejthS6"
      },
      "execution_count": 5,
      "outputs": []
    },
    {
      "cell_type": "code",
      "source": [
        "department_employee_count = df.groupby('sales').size().reset_index(name='num_employees')\n",
        "department_employee_count.insert(0, 'Serial No', range(1, len(department_employee_count) + 1))\n",
        "print(\"Department-wise Employee Count\")\n",
        "print(tabulate(department_employee_count, headers='keys', tablefmt='grid', showindex=False))\n"
      ],
      "metadata": {
        "colab": {
          "base_uri": "https://localhost:8080/"
        },
        "id": "_JA-PEiwt7ox",
        "outputId": "53111c35-1f82-4242-fe11-98e66969f9db"
      },
      "execution_count": 8,
      "outputs": [
        {
          "output_type": "stream",
          "name": "stdout",
          "text": [
            "Department-wise Employee Count\n",
            "+-------------+------------+-----------------+\n",
            "|   Serial No | sales      |   num_employees |\n",
            "+=============+============+=================+\n",
            "|           1 | accounting |               3 |\n",
            "+-------------+------------+-----------------+\n",
            "|           2 | hr         |               4 |\n",
            "+-------------+------------+-----------------+\n",
            "|           3 | sales      |              28 |\n",
            "+-------------+------------+-----------------+\n",
            "|           4 | techanical |               4 |\n",
            "+-------------+------------+-----------------+\n"
          ]
        }
      ]
    },
    {
      "cell_type": "code",
      "source": [
        "eft_employees_department = df[df['left'] == 1].groupby('sales').size().reset_index(name='num_employees')\n",
        "left_employees_department['rank'] = left_employees_department['num_employees'].rank(ascending=False)\n",
        "left_employees_department.insert(0, 'Serial No', range(1, len(left_employees_department) + 1))\n",
        "print(\"\\nDepartment-wise Employee Count of Employees Who Left and Their Rank\")\n",
        "print(tabulate(left_employees_department, headers='keys', tablefmt='grid', showindex=False))"
      ],
      "metadata": {
        "colab": {
          "base_uri": "https://localhost:8080/"
        },
        "id": "i_AoA4_yuhRs",
        "outputId": "72a393bc-35bc-4cf5-9ba8-0b176d97ce22"
      },
      "execution_count": 9,
      "outputs": [
        {
          "output_type": "stream",
          "name": "stdout",
          "text": [
            "\n",
            "Department-wise Employee Count of Employees Who Left and Their Rank\n",
            "+-------------+------------+-----------------+--------+\n",
            "|   Serial No | sales      |   num_employees |   rank |\n",
            "+=============+============+=================+========+\n",
            "|           1 | accounting |               3 |    4   |\n",
            "+-------------+------------+-----------------+--------+\n",
            "|           2 | hr         |               4 |    2.5 |\n",
            "+-------------+------------+-----------------+--------+\n",
            "|           3 | sales      |              28 |    1   |\n",
            "+-------------+------------+-----------------+--------+\n",
            "|           4 | techanical |               4 |    2.5 |\n",
            "+-------------+------------+-----------------+--------+\n"
          ]
        }
      ]
    },
    {
      "cell_type": "code",
      "source": [
        "import pandas as pd\n",
        "from tabulate import tabulate\n",
        "\n",
        "# Sample data frame\n",
        "data = {\n",
        "    \"satisfaction_level\": [0.38, 0.09, 0.45, 0.40, 0.45, 0.84, 0.10, 0.38, 0.45, 0.11],\n",
        "    \"last_evaluation\": [0.50, 0.62, 0.57, 0.51, 0.55, 0.87, 0.94, 0.46, 0.50, 0.89],\n",
        "    \"number_project\": [2, 6, 2, 2, 2, 4, 6, 2, 2, 6],\n",
        "    \"average_montly_hours\": [132, 294, 134, 145, 140, 246, 255, 137, 126, 306],\n",
        "    \"time_spend_company\": [3, 4, 3, 3, 3, 6, 4, 3, 3, 4],\n",
        "    \"Work_accident\": [0, 0, 0, 0, 0, 0, 0, 0, 0, 0],\n",
        "    \"left\": [1, 1, 1, 1, 1, 1, 1, 1, 1, 1],\n",
        "    \"promotion_last_5years\": [0, 0, 0, 0, 0, 0, 0, 0, 0, 0],\n",
        "    \"sales\": [\"accounting\", \"accounting\", \"hr\", \"hr\", \"hr\", \"hr\", \"technical\", \"technical\", \"technical\", \"technical\"],\n",
        "    \"salary\": [\"low\", \"low\", \"low\", \"low\", \"low\", \"low\", \"low\", \"low\", \"low\", \"low\"]\n",
        "}\n",
        "\n",
        "df = pd.DataFrame(data)\n",
        "\n",
        "# Calculate average time_spend_company and average_montly_hours\n",
        "avg_time_hours = df.groupby(['sales', 'left']).agg(\n",
        "    avg_time_spend_company=('time_spend_company', 'mean'),\n",
        "    avg_average_monthly_hours=('average_montly_hours', 'mean')\n",
        ").reset_index()\n",
        "\n",
        "# Pivot table for heatmap\n",
        "heatmap_data = avg_time_hours.pivot(index='sales', columns='left', values=['avg_time_spend_company', 'avg_average_monthly_hours'])\n",
        "\n",
        "# Reset index to flatten the pivot table for tabulate\n",
        "heatmap_data_reset = heatmap_data.reset_index()\n",
        "\n",
        "# Add serial number column\n",
        "heatmap_data_reset.insert(0, 'Serial No', range(1, len(heatmap_data_reset) + 1))\n",
        "\n",
        "# Print the table with a dotted line\n",
        "print(\"\\nHeatmap Data for Average Time Spent and Monthly Hours by Department and Left Status\")\n",
        "print(tabulate(heatmap_data_reset, headers='keys', tablefmt='grid', showindex=False))\n"
      ],
      "metadata": {
        "colab": {
          "base_uri": "https://localhost:8080/"
        },
        "id": "md4UmzjezZ2U",
        "outputId": "6589ecf4-4765-42c7-ee2e-c8b0947a12ca"
      },
      "execution_count": 30,
      "outputs": [
        {
          "output_type": "stream",
          "name": "stdout",
          "text": [
            "\n",
            "Heatmap Data for Average Time Spent and Monthly Hours by Department and Left Status\n",
            "+---------------------+-----------------+---------------------------------+------------------------------------+\n",
            "|   ('Serial No', '') | ('sales', '')   |   ('avg_time_spend_company', 1) |   ('avg_average_monthly_hours', 1) |\n",
            "+=====================+=================+=================================+====================================+\n",
            "|                   1 | accounting      |                            3.5  |                             213    |\n",
            "+---------------------+-----------------+---------------------------------+------------------------------------+\n",
            "|                   2 | hr              |                            3.75 |                             166.25 |\n",
            "+---------------------+-----------------+---------------------------------+------------------------------------+\n",
            "|                   3 | technical       |                            3.5  |                             206    |\n",
            "+---------------------+-----------------+---------------------------------+------------------------------------+\n"
          ]
        }
      ]
    },
    {
      "cell_type": "code",
      "source": [
        "import pandas as pd\n",
        "from tabulate import tabulate\n",
        "\n",
        "# Sample data frame\n",
        "data = {\n",
        "    \"satisfaction_level\": [0.38, 0.09, 0.45, 0.40, 0.45, 0.84, 0.10, 0.38, 0.45, 0.11],\n",
        "    \"last_evaluation\": [0.50, 0.62, 0.57, 0.51, 0.55, 0.87, 0.94, 0.46, 0.50, 0.89],\n",
        "    \"number_project\": [2, 6, 2, 2, 2, 4, 6, 2, 2, 6],\n",
        "    \"average_montly_hours\": [132, 294, 134, 145, 140, 246, 255, 137, 126, 306],\n",
        "    \"time_spend_company\": [3, 4, 3, 3, 3, 6, 4, 3, 3, 4],\n",
        "    \"Work_accident\": [0, 0, 0, 0, 0, 0, 0, 0, 0, 0],\n",
        "    \"left\": [1, 1, 1, 1, 1, 1, 1, 1, 1, 1],\n",
        "    \"promotion_last_5years\": [0, 0, 0, 0, 0, 0, 0, 0, 0, 0],\n",
        "    \"sales\": [\"accounting\", \"accounting\", \"hr\", \"hr\", \"hr\", \"hr\", \"technical\", \"technical\", \"technical\", \"technical\"],\n",
        "    \"salary\": [\"low\", \"low\", \"low\", \"low\", \"low\", \"low\", \"low\", \"low\", \"low\", \"low\"]\n",
        "}\n",
        "\n",
        "df = pd.DataFrame(data)\n",
        "\n",
        "# Calculate count of work accidents and promotions\n",
        "accident_promotion_stats = df.groupby([\"left\", \"sales\"]).agg(\n",
        "    count_work_accident=(\"Work_accident\", \"sum\"),\n",
        "    count_promotion_last_5years=(\"promotion_last_5years\", \"sum\")\n",
        ").reset_index()\n",
        "\n",
        "# Sort by 'sales'\n",
        "accident_promotion_stats_sorted = accident_promotion_stats.sort_values(by=\"sales\")\n",
        "\n",
        "# Add serial number column\n",
        "accident_promotion_stats_sorted.insert(0, 'Serial No', range(1, len(accident_promotion_stats_sorted) + 1))\n",
        "\n",
        "# Print the table with a dotted line\n",
        "print(\"\\nCount of Work Accidents and Promotions by Department and Left Status\")\n",
        "print(tabulate(accident_promotion_stats_sorted, headers='keys', tablefmt='grid', showindex=False))\n"
      ],
      "metadata": {
        "colab": {
          "base_uri": "https://localhost:8080/"
        },
        "id": "JrHs8zFN0iJl",
        "outputId": "ba47805c-ee81-4f6b-92c6-6d0feec5a0a7"
      },
      "execution_count": 31,
      "outputs": [
        {
          "output_type": "stream",
          "name": "stdout",
          "text": [
            "\n",
            "Count of Work Accidents and Promotions by Department and Left Status\n",
            "+-------------+--------+------------+-----------------------+-------------------------------+\n",
            "|   Serial No |   left | sales      |   count_work_accident |   count_promotion_last_5years |\n",
            "+=============+========+============+=======================+===============================+\n",
            "|           1 |      1 | accounting |                     0 |                             0 |\n",
            "+-------------+--------+------------+-----------------------+-------------------------------+\n",
            "|           2 |      1 | hr         |                     0 |                             0 |\n",
            "+-------------+--------+------------+-----------------------+-------------------------------+\n",
            "|           3 |      1 | technical  |                     0 |                             0 |\n",
            "+-------------+--------+------------+-----------------------+-------------------------------+\n"
          ]
        }
      ]
    },
    {
      "cell_type": "code",
      "source": [
        "import pandas as pd\n",
        "from tabulate import tabulate\n",
        "\n",
        "# Sample data frame\n",
        "data = {\n",
        "    \"satisfaction_level\": [0.38, 0.09, 0.45, 0.40, 0.45, 0.84, 0.10, 0.38, 0.45, 0.11],\n",
        "    \"last_evaluation\": [0.50, 0.62, 0.57, 0.51, 0.55, 0.87, 0.94, 0.46, 0.50, 0.89],\n",
        "    \"number_project\": [2, 6, 2, 2, 2, 4, 6, 2, 2, 6],\n",
        "    \"average_montly_hours\": [132, 294, 134, 145, 140, 246, 255, 137, 126, 306],\n",
        "    \"time_spend_company\": [3, 4, 3, 3, 3, 6, 4, 3, 3, 4],\n",
        "    \"Work_accident\": [0, 0, 0, 0, 0, 0, 0, 0, 0, 0],\n",
        "    \"left\": [1, 1, 1, 1, 1, 1, 1, 1, 1, 1],\n",
        "    \"promotion_last_5years\": [0, 0, 0, 0, 0, 0, 0, 0, 0, 0],\n",
        "    \"sales\": [\"accounting\", \"accounting\", \"hr\", \"hr\", \"hr\", \"hr\", \"technical\", \"technical\", \"technical\", \"technical\"],\n",
        "    \"salary\": [\"low\", \"low\", \"low\", \"low\", \"low\", \"low\", \"low\", \"low\", \"low\", \"low\"]\n",
        "}\n",
        "\n",
        "df = pd.DataFrame(data)\n",
        "\n",
        "# Calculate evaluation and satisfaction statistics\n",
        "eval_satisfaction_stats = df.groupby([\"left\", \"sales\"]).agg(\n",
        "    min_last_evaluation=(\"last_evaluation\", \"min\"),\n",
        "    max_last_evaluation=(\"last_evaluation\", \"max\"),\n",
        "    avg_last_evaluation=(\"last_evaluation\", \"mean\"),\n",
        "    min_satisfaction_level=(\"satisfaction_level\", \"min\"),\n",
        "    max_satisfaction_level=(\"satisfaction_level\", \"max\"),\n",
        "    avg_satisfaction_level=(\"satisfaction_level\", \"mean\")\n",
        ").reset_index()\n",
        "\n",
        "# Sort by 'sales'\n",
        "eval_satisfaction_stats_sorted = eval_satisfaction_stats.sort_values(by=\"sales\")\n",
        "\n",
        "# Add serial number column\n",
        "eval_satisfaction_stats_sorted.insert(0, 'Serial No', range(1, len(eval_satisfaction_stats_sorted) + 1))\n",
        "\n",
        "# Print the table with a dotted line\n",
        "print(\"\\nEvaluation and Satisfaction Statistics by Department and Left Status\")\n",
        "print(tabulate(eval_satisfaction_stats_sorted, headers='keys', tablefmt='grid', showindex=False))\n"
      ],
      "metadata": {
        "colab": {
          "base_uri": "https://localhost:8080/"
        },
        "id": "7eq8i-i-1Xox",
        "outputId": "4df83fc3-b90d-449c-f7ab-bd31aa6ab2f2"
      },
      "execution_count": 32,
      "outputs": [
        {
          "output_type": "stream",
          "name": "stdout",
          "text": [
            "\n",
            "Evaluation and Satisfaction Statistics by Department and Left Status\n",
            "+-------------+--------+------------+-----------------------+-----------------------+-----------------------+--------------------------+--------------------------+--------------------------+\n",
            "|   Serial No |   left | sales      |   min_last_evaluation |   max_last_evaluation |   avg_last_evaluation |   min_satisfaction_level |   max_satisfaction_level |   avg_satisfaction_level |\n",
            "+=============+========+============+=======================+=======================+=======================+==========================+==========================+==========================+\n",
            "|           1 |      1 | accounting |                  0.5  |                  0.62 |                0.56   |                     0.09 |                     0.38 |                    0.235 |\n",
            "+-------------+--------+------------+-----------------------+-----------------------+-----------------------+--------------------------+--------------------------+--------------------------+\n",
            "|           2 |      1 | hr         |                  0.51 |                  0.87 |                0.625  |                     0.4  |                     0.84 |                    0.535 |\n",
            "+-------------+--------+------------+-----------------------+-----------------------+-----------------------+--------------------------+--------------------------+--------------------------+\n",
            "|           3 |      1 | technical  |                  0.46 |                  0.94 |                0.6975 |                     0.1  |                     0.45 |                    0.26  |\n",
            "+-------------+--------+------------+-----------------------+-----------------------+-----------------------+--------------------------+--------------------------+--------------------------+\n"
          ]
        }
      ]
    },
    {
      "cell_type": "code",
      "source": [
        "import pandas as pd\n",
        "from tabulate import tabulate\n",
        "\n",
        "# Sample data frame\n",
        "data = {\n",
        "    \"satisfaction_level\": [0.38, 0.09, 0.45, 0.40, 0.45, 0.84, 0.10, 0.38, 0.45, 0.11],\n",
        "    \"last_evaluation\": [0.50, 0.62, 0.57, 0.51, 0.55, 0.87, 0.94, 0.46, 0.50, 0.89],\n",
        "    \"number_project\": [2, 6, 2, 2, 2, 4, 6, 2, 2, 6],\n",
        "    \"average_montly_hours\": [132, 294, 134, 145, 140, 246, 255, 137, 126, 306],\n",
        "    \"time_spend_company\": [3, 4, 3, 3, 3, 6, 4, 3, 3, 4],\n",
        "    \"Work_accident\": [0, 0, 0, 0, 0, 0, 0, 0, 0, 0],\n",
        "    \"left\": [1, 1, 1, 1, 1, 1, 1, 1, 1, 1],\n",
        "    \"promotion_last_5years\": [0, 0, 0, 0, 0, 0, 0, 0, 0, 0],\n",
        "    \"sales\": [\"accounting\", \"accounting\", \"hr\", \"hr\", \"hr\", \"hr\", \"technical\", \"technical\", \"technical\", \"technical\"],\n",
        "    \"salary\": [\"low\", \"low\", \"low\", \"low\", \"low\", \"low\", \"low\", \"low\", \"low\", \"low\"]\n",
        "}\n",
        "\n",
        "df = pd.DataFrame(data)\n",
        "\n",
        "# Calculate minimum and maximum for time_spend_company and average_montly_hours\n",
        "min_max_time_hours = df.groupby([\"left\", \"sales\"]).agg(\n",
        "    min_time_spend_company=(\"time_spend_company\", \"min\"),\n",
        "    max_time_spend_company=(\"time_spend_company\", \"max\"),\n",
        "    min_average_montly_hours=(\"average_montly_hours\", \"min\"),\n",
        "    max_average_montly_hours=(\"average_montly_hours\", \"max\")\n",
        ").reset_index()\n",
        "\n",
        "# Sort the results by 'sales'\n",
        "min_max_time_hours_sorted = min_max_time_hours.sort_values(by=\"sales\")\n",
        "\n",
        "# Add serial number column\n",
        "min_max_time_hours_sorted.insert(0, 'Serial No', range(1, len(min_max_time_hours_sorted) + 1))\n",
        "\n",
        "# Print the table with grid lines\n",
        "print(\"\\nMinimum and Maximum Time Spent and Monthly Hours by Department and Left Status\")\n",
        "print(tabulate(min_max_time_hours_sorted, headers='keys', tablefmt='grid', showindex=False))\n"
      ],
      "metadata": {
        "colab": {
          "base_uri": "https://localhost:8080/"
        },
        "id": "5phW6acs2KkG",
        "outputId": "4134b88d-73be-4b82-9b9b-c96119427c70"
      },
      "execution_count": 33,
      "outputs": [
        {
          "output_type": "stream",
          "name": "stdout",
          "text": [
            "\n",
            "Minimum and Maximum Time Spent and Monthly Hours by Department and Left Status\n",
            "+-------------+--------+------------+--------------------------+--------------------------+----------------------------+----------------------------+\n",
            "|   Serial No |   left | sales      |   min_time_spend_company |   max_time_spend_company |   min_average_montly_hours |   max_average_montly_hours |\n",
            "+=============+========+============+==========================+==========================+============================+============================+\n",
            "|           1 |      1 | accounting |                        3 |                        4 |                        132 |                        294 |\n",
            "+-------------+--------+------------+--------------------------+--------------------------+----------------------------+----------------------------+\n",
            "|           2 |      1 | hr         |                        3 |                        6 |                        134 |                        246 |\n",
            "+-------------+--------+------------+--------------------------+--------------------------+----------------------------+----------------------------+\n",
            "|           3 |      1 | technical  |                        3 |                        4 |                        126 |                        306 |\n",
            "+-------------+--------+------------+--------------------------+--------------------------+----------------------------+----------------------------+\n"
          ]
        }
      ]
    },
    {
      "cell_type": "code",
      "source": [
        "import pandas as pd\n",
        "from tabulate import tabulate\n",
        "\n",
        "# Sample data frame\n",
        "data = {\n",
        "    \"satisfaction_level\": [0.38, 0.09, 0.45, 0.40, 0.45, 0.84, 0.10, 0.38, 0.45, 0.11],\n",
        "    \"last_evaluation\": [0.50, 0.62, 0.57, 0.51, 0.55, 0.87, 0.94, 0.46, 0.50, 0.89],\n",
        "    \"number_project\": [2, 6, 2, 2, 2, 4, 6, 2, 2, 6],\n",
        "    \"average_montly_hours\": [132, 294, 134, 145, 140, 246, 255, 137, 126, 306],\n",
        "    \"time_spend_company\": [3, 4, 3, 3, 3, 6, 4, 3, 3, 4],\n",
        "    \"Work_accident\": [0, 0, 0, 0, 0, 0, 0, 0, 0, 0],\n",
        "    \"left\": [1, 1, 1, 1, 1, 1, 1, 1, 1, 1],\n",
        "    \"promotion_last_5years\": [0, 0, 0, 0, 0, 0, 0, 0, 0, 0],\n",
        "    \"sales\": [\"accounting\", \"accounting\", \"hr\", \"hr\", \"hr\", \"hr\", \"technical\", \"technical\", \"technical\", \"technical\"],\n",
        "    \"salary\": [\"low\", \"low\", \"low\", \"low\", \"low\", \"low\", \"low\", \"low\", \"low\", \"low\"]\n",
        "}\n",
        "\n",
        "df = pd.DataFrame(data)\n",
        "\n",
        "# Dummy aggregated data for merging\n",
        "avg_time_hours_sorted = df.groupby([\"left\", \"sales\"]).agg(\n",
        "    avg_time_spend_company=(\"time_spend_company\", \"mean\"),\n",
        "    avg_average_montly_hours=(\"average_montly_hours\", \"mean\")\n",
        ").reset_index().sort_values(by=\"sales\")\n",
        "\n",
        "min_max_time_hours_sorted = df.groupby([\"left\", \"sales\"]).agg(\n",
        "    min_time_spend_company=(\"time_spend_company\", \"min\"),\n",
        "    max_time_spend_company=(\"time_spend_company\", \"max\"),\n",
        "    min_average_montly_hours=(\"average_montly_hours\", \"min\"),\n",
        "    max_average_montly_hours=(\"average_montly_hours\", \"max\")\n",
        ").reset_index().sort_values(by=\"sales\")\n",
        "\n",
        "eval_satisfaction_stats_sorted = df.groupby([\"left\", \"sales\"]).agg(\n",
        "    min_last_evaluation=(\"last_evaluation\", \"min\"),\n",
        "    max_last_evaluation=(\"last_evaluation\", \"max\"),\n",
        "    avg_last_evaluation=(\"last_evaluation\", \"mean\"),\n",
        "    min_satisfaction_level=(\"satisfaction_level\", \"min\"),\n",
        "    max_satisfaction_level=(\"satisfaction_level\", \"max\"),\n",
        "    avg_satisfaction_level=(\"satisfaction_level\", \"mean\")\n",
        ").reset_index().sort_values(by=\"sales\")\n",
        "\n",
        "accident_promotion_stats_sorted = df.groupby([\"left\", \"sales\"]).agg(\n",
        "    count_work_accident=(\"Work_accident\", \"sum\"),\n",
        "    count_promotion_last_5years=(\"promotion_last_5years\", \"sum\")\n",
        ").reset_index().sort_values(by=\"sales\")\n",
        "\n",
        "# Merging data frames\n",
        "merged_results = pd.merge(avg_time_hours_sorted, min_max_time_hours_sorted, on=[\"left\", \"sales\"])\n",
        "merged_results = pd.merge(merged_results, eval_satisfaction_stats_sorted, on=[\"left\", \"sales\"])\n",
        "merged_results = pd.merge(merged_results, accident_promotion_stats_sorted, on=[\"left\", \"sales\"])\n",
        "\n",
        "# Add serial number column\n",
        "merged_results.insert(0, 'Serial No', range(1, len(merged_results) + 1))\n",
        "\n",
        "# Print the table with grid lines\n",
        "print(\"\\nMerged Results Table\")\n",
        "print(tabulate(merged_results, headers='keys', tablefmt='grid', showindex=False))\n"
      ],
      "metadata": {
        "colab": {
          "base_uri": "https://localhost:8080/"
        },
        "id": "DQrg9fv43h66",
        "outputId": "4152a949-e5f2-40c6-b5ea-38cbe10631f6"
      },
      "execution_count": 34,
      "outputs": [
        {
          "output_type": "stream",
          "name": "stdout",
          "text": [
            "\n",
            "Merged Results Table\n",
            "+-------------+--------+------------+--------------------------+----------------------------+--------------------------+--------------------------+----------------------------+----------------------------+-----------------------+-----------------------+-----------------------+--------------------------+--------------------------+--------------------------+-----------------------+-------------------------------+\n",
            "|   Serial No |   left | sales      |   avg_time_spend_company |   avg_average_montly_hours |   min_time_spend_company |   max_time_spend_company |   min_average_montly_hours |   max_average_montly_hours |   min_last_evaluation |   max_last_evaluation |   avg_last_evaluation |   min_satisfaction_level |   max_satisfaction_level |   avg_satisfaction_level |   count_work_accident |   count_promotion_last_5years |\n",
            "+=============+========+============+==========================+============================+==========================+==========================+============================+============================+=======================+=======================+=======================+==========================+==========================+==========================+=======================+===============================+\n",
            "|           1 |      1 | accounting |                     3.5  |                     213    |                        3 |                        4 |                        132 |                        294 |                  0.5  |                  0.62 |                0.56   |                     0.09 |                     0.38 |                    0.235 |                     0 |                             0 |\n",
            "+-------------+--------+------------+--------------------------+----------------------------+--------------------------+--------------------------+----------------------------+----------------------------+-----------------------+-----------------------+-----------------------+--------------------------+--------------------------+--------------------------+-----------------------+-------------------------------+\n",
            "|           2 |      1 | hr         |                     3.75 |                     166.25 |                        3 |                        6 |                        134 |                        246 |                  0.51 |                  0.87 |                0.625  |                     0.4  |                     0.84 |                    0.535 |                     0 |                             0 |\n",
            "+-------------+--------+------------+--------------------------+----------------------------+--------------------------+--------------------------+----------------------------+----------------------------+-----------------------+-----------------------+-----------------------+--------------------------+--------------------------+--------------------------+-----------------------+-------------------------------+\n",
            "|           3 |      1 | technical  |                     3.5  |                     206    |                        3 |                        4 |                        126 |                        306 |                  0.46 |                  0.94 |                0.6975 |                     0.1  |                     0.45 |                    0.26  |                     0 |                             0 |\n",
            "+-------------+--------+------------+--------------------------+----------------------------+--------------------------+--------------------------+----------------------------+----------------------------+-----------------------+-----------------------+-----------------------+--------------------------+--------------------------+--------------------------+-----------------------+-------------------------------+\n"
          ]
        }
      ]
    },
    {
      "cell_type": "code",
      "source": [
        "import matplotlib.pyplot as plt\n",
        "import seaborn as sns\n",
        "\n",
        "# Ensure avg_time_hours_sorted DataFrame has the required columns: 'sales', 'avg_time_spend_company', 'left'\n",
        "\n",
        "# Create the grouped bar chart\n",
        "plt.figure(figsize=(14, 8))\n",
        "sns.barplot(x='sales', y='avg_time_spend_company', hue='left', data=avg_time_hours_sorted)\n",
        "\n",
        "# Set labels and title\n",
        "plt.xlabel('Department')\n",
        "plt.ylabel('Average Time Spent in Company')\n",
        "plt.title('Average Time Spent in Company by Department (Left vs Not Left)')\n",
        "\n",
        "# Rotate x-axis labels for better readability\n",
        "plt.xticks(rotation=45)\n",
        "\n",
        "# Add legend\n",
        "plt.legend(title='Left')\n",
        "\n",
        "# Display the plot\n",
        "plt.show()\n"
      ],
      "metadata": {
        "colab": {
          "base_uri": "https://localhost:8080/",
          "height": 768
        },
        "id": "uwYSc8-3ymEe",
        "outputId": "d5ba8dae-354f-49fc-e972-9ee6719d9ede"
      },
      "execution_count": 28,
      "outputs": [
        {
          "output_type": "display_data",
          "data": {
            "text/plain": [
              "<Figure size 1400x800 with 1 Axes>"
            ],
            "image/png": "[encoded data removed]"
          },
          "metadata": {}
        }
      ]
    },
    {
      "cell_type": "code",
      "source": [
        "import seaborn as sns\n",
        "import matplotlib.pyplot as plt\n",
        "import pandas as pd\n",
        "\n",
        "# Sample data frame\n",
        "data = {\n",
        "    \"satisfaction_level\": [0.38, 0.09, 0.45, 0.40, 0.45, 0.84, 0.10, 0.38, 0.45, 0.11],\n",
        "    \"last_evaluation\": [0.50, 0.62, 0.57, 0.51, 0.55, 0.87, 0.94, 0.46, 0.50, 0.89],\n",
        "    \"number_project\": [2, 6, 2, 2, 2, 4, 6, 2, 2, 6],\n",
        "    \"average_montly_hours\": [132, 294, 134, 145, 140, 246, 255, 137, 126, 306],\n",
        "    \"time_spend_company\": [3, 4, 3, 3, 3, 6, 4, 3, 3, 4],\n",
        "    \"Work_accident\": [0, 0, 0, 0, 0, 0, 0, 0, 0, 0],\n",
        "    \"left\": [1, 1, 1, 1, 1, 1, 1, 1, 1, 1],\n",
        "    \"promotion_last_5years\": [0, 0, 0, 0, 0, 0, 0, 0, 0, 0],\n",
        "    \"sales\": [\"accounting\", \"accounting\", \"hr\", \"hr\", \"hr\", \"hr\", \"technical\", \"technical\", \"technical\", \"technical\"],\n",
        "    \"salary\": [\"low\", \"low\", \"low\", \"low\", \"low\", \"low\", \"low\", \"low\", \"low\", \"low\"]\n",
        "}\n",
        "\n",
        "df = pd.DataFrame(data)\n",
        "\n",
        "# Compute average time_spend_company and average_montly_hours\n",
        "avg_time_hours = df.groupby([\"left\", \"sales\"]).agg(\n",
        "    avg_time_spend_company=(\"time_spend_company\", \"mean\"),\n",
        "    avg_average_montly_hours=(\"average_montly_hours\", \"mean\")\n",
        ").reset_index()\n",
        "\n",
        "# Pivot table for heatmap\n",
        "heatmap_data = avg_time_hours.pivot(index='sales', columns='left', values=['avg_time_spend_company', 'avg_average_montly_hours'])\n",
        "\n",
        "# Plot heatmap\n",
        "plt.figure(figsize=(12, 8))\n",
        "\n",
        "# Plot avg_time_spend_company\n",
        "plt.subplot(1, 2, 1)\n",
        "sns.heatmap(heatmap_data['avg_time_spend_company'], annot=True, cmap='coolwarm', fmt=\".1f\", linewidths=0.5)\n",
        "plt.title('Average Time Spent in Company')\n",
        "plt.xlabel('Left')\n",
        "plt.ylabel('Department')\n",
        "\n",
        "# Plot avg_average_montly_hours\n",
        "plt.subplot(1, 2, 2)\n",
        "sns.heatmap(heatmap_data['avg_average_montly_hours'], annot=True, cmap='coolwarm', fmt=\".1f\", linewidths=0.5)\n",
        "plt.title('Average Monthly Hours')\n",
        "plt.xlabel('Left')\n",
        "plt.ylabel('Department')\n",
        "\n",
        "plt.tight_layout()\n",
        "plt.show()\n"
      ],
      "metadata": {
        "colab": {
          "base_uri": "https://localhost:8080/",
          "height": 807
        },
        "id": "_rG-dr4S5F2E",
        "outputId": "d27b8575-4153-4a70-842c-f16de27bbe7c"
      },
      "execution_count": 35,
      "outputs": [
        {
          "output_type": "display_data",
          "data": {
            "text/plain": [
              "<Figure size 1200x800 with 4 Axes>"
            ],
            "image/png": "[encoded data removed]"
          },
          "metadata": {}
        }
      ]
    }
  ]
}