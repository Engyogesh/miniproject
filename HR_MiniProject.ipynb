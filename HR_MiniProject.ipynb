{
  "nbformat": 4,
  "nbformat_minor": 0,
  "metadata": {
    "colab": {
      "provenance": [],
      "authorship_tag": "ABX9TyN6S11AnaaZ8G3xI2cTO1Gw",
      "include_colab_link": true
    },
    "kernelspec": {
      "name": "python3",
      "display_name": "Python 3"
    },
    "language_info": {
      "name": "python"
    }
  },
  "cells": [
    {
      "cell_type": "markdown",
      "metadata": {
        "id": "view-in-github",
        "colab_type": "text"
      },
      "source": [
        "<a href=\"https://colab.research.google.com/github/Engyogesh/miniproject/blob/main/HR_MiniProject.ipynb\" target=\"_parent\"><img src=\"https://colab.research.google.com/assets/colab-badge.svg\" alt=\"Open In Colab\"/></a>"
      ]
    },
    {
      "cell_type": "code",
      "source": [
        "import pandas as pd\n",
        "from tabulate import tabulate\n",
        "import traceback\n",
        "import numpy as np\n",
        "import matplotlib.pyplot as plt\n",
        "from requests import get\n",
        "import requests\n",
        "import os\n",
        ""
      ],
      "metadata": {
        "id": "jsgbrCnJOhFJ"
      },
      "execution_count": 24,
      "outputs": []
    },
    {
      "cell_type": "code",
      "source": [
        "from google.colab import drive\n",
        "drive.mount('/content/gdrive/')"
      ],
      "metadata": {
        "colab": {
          "base_uri": "https://localhost:8080/"
        },
        "id": "-18fJsKxSyBv",
        "outputId": "a980e18a-6845-4d48-af8f-9634d42383ef"
      },
      "execution_count": 38,
      "outputs": [
        {
          "output_type": "stream",
          "name": "stdout",
          "text": [
            "Mounted at /content/gdrive/\n"
          ]
        }
      ]
    },
    {
      "cell_type": "code",
      "source": [
        "import pandas as pd\n",
        "Data = pd.read_excel(r'/content/gdrive/My Drive/mini project/HR DATA.xlsx')"
      ],
      "metadata": {
        "id": "fdBRxDBPS-19"
      },
      "execution_count": 40,
      "outputs": []
    },
    {
      "cell_type": "code",
      "source": [
        "display(pd.DataFrame(Data))"
      ],
      "metadata": {
        "colab": {
          "base_uri": "https://localhost:8080/",
          "height": 363
        },
        "id": "RmFarJDdUUOJ",
        "outputId": "52a1270b-f967-423c-b94a-d836d73162b5"
      },
      "execution_count": 41,
      "outputs": [
        {
          "output_type": "display_data",
          "data": {
            "text/plain": [
              "   satisfaction_level  last_evaluation  number_project  average_montly_hours  \\\n",
              "0            0.380000         0.380000            0.38              0.380000   \n",
              "1            0.090000         0.620000            6.00            294.000000   \n",
              "2            0.450000         0.570000            2.00            134.000000   \n",
              "3            0.400000         0.510000            2.00            145.000000   \n",
              "4            0.450000         0.550000            2.00            140.000000   \n",
              "5            0.840000         0.870000            4.00            246.000000   \n",
              "6            0.100000         0.940000            6.00            255.000000   \n",
              "7            0.380000         0.460000            2.00            137.000000   \n",
              "8            0.450000         0.500000            2.00            126.000000   \n",
              "9            0.483929         0.639286            2.50            145.785714   \n",
              "\n",
              "   time_spend_company  Work_accident  left  promotion_last_5years       sales  \\\n",
              "0            0.380000           0.38  0.38                   0.38  accounting   \n",
              "1            4.000000           0.00  1.00                   0.00  accounting   \n",
              "2            3.000000           0.00  1.00                   0.00          hr   \n",
              "3            3.000000           0.00  1.00                   0.00          hr   \n",
              "4            3.000000           0.00  1.00                   0.00          hr   \n",
              "5            6.000000           0.00  1.00                   0.00          hr   \n",
              "6            4.000000           0.00  1.00                   0.00   technical   \n",
              "7            3.000000           0.00  1.00                   0.00   technical   \n",
              "8            3.000000           0.00  1.00                   0.00  techanical   \n",
              "9            3.571429           0.00  1.00                   0.00  techanical   \n",
              "\n",
              "  salary  \n",
              "0    low  \n",
              "1    low  \n",
              "2    low  \n",
              "3    low  \n",
              "4    low  \n",
              "5    low  \n",
              "6    low  \n",
              "7    low  \n",
              "8    low  \n",
              "9    low  "
            ],
            "text/html": [
              "\n",
              "  <div id=\"df-9839806e-9f2d-466d-8f4e-8284ea887914\" class=\"colab-df-container\">\n",
              "    <div>\n",
              "<style scoped>\n",
              "    .dataframe tbody tr th:only-of-type {\n",
              "        vertical-align: middle;\n",
              "    }\n",
              "\n",
              "    .dataframe tbody tr th {\n",
              "        vertical-align: top;\n",
              "    }\n",
              "\n",
              "    .dataframe thead th {\n",
              "        text-align: right;\n",
              "    }\n",
              "</style>\n",
              "<table border=\"1\" class=\"dataframe\">\n",
              "  <thead>\n",
              "    <tr style=\"text-align: right;\">\n",
              "      <th></th>\n",
              "      <th>satisfaction_level</th>\n",
              "      <th>last_evaluation</th>\n",
              "      <th>number_project</th>\n",
              "      <th>average_montly_hours</th>\n",
              "      <th>time_spend_company</th>\n",
              "      <th>Work_accident</th>\n",
              "      <th>left</th>\n",
              "      <th>promotion_last_5years</th>\n",
              "      <th>sales</th>\n",
              "      <th>salary</th>\n",
              "    </tr>\n",
              "  </thead>\n",
              "  <tbody>\n",
              "    <tr>\n",
              "      <th>0</th>\n",
              "      <td>0.380000</td>\n",
              "      <td>0.380000</td>\n",
              "      <td>0.38</td>\n",
              "      <td>0.380000</td>\n",
              "      <td>0.380000</td>\n",
              "      <td>0.38</td>\n",
              "      <td>0.38</td>\n",
              "      <td>0.38</td>\n",
              "      <td>accounting</td>\n",
              "      <td>low</td>\n",
              "    </tr>\n",
              "    <tr>\n",
              "      <th>1</th>\n",
              "      <td>0.090000</td>\n",
              "      <td>0.620000</td>\n",
              "      <td>6.00</td>\n",
              "      <td>294.000000</td>\n",
              "      <td>4.000000</td>\n",
              "      <td>0.00</td>\n",
              "      <td>1.00</td>\n",
              "      <td>0.00</td>\n",
              "      <td>accounting</td>\n",
              "      <td>low</td>\n",
              "    </tr>\n",
              "    <tr>\n",
              "      <th>2</th>\n",
              "      <td>0.450000</td>\n",
              "      <td>0.570000</td>\n",
              "      <td>2.00</td>\n",
              "      <td>134.000000</td>\n",
              "      <td>3.000000</td>\n",
              "      <td>0.00</td>\n",
              "      <td>1.00</td>\n",
              "      <td>0.00</td>\n",
              "      <td>hr</td>\n",
              "      <td>low</td>\n",
              "    </tr>\n",
              "    <tr>\n",
              "      <th>3</th>\n",
              "      <td>0.400000</td>\n",
              "      <td>0.510000</td>\n",
              "      <td>2.00</td>\n",
              "      <td>145.000000</td>\n",
              "      <td>3.000000</td>\n",
              "      <td>0.00</td>\n",
              "      <td>1.00</td>\n",
              "      <td>0.00</td>\n",
              "      <td>hr</td>\n",
              "      <td>low</td>\n",
              "    </tr>\n",
              "    <tr>\n",
              "      <th>4</th>\n",
              "      <td>0.450000</td>\n",
              "      <td>0.550000</td>\n",
              "      <td>2.00</td>\n",
              "      <td>140.000000</td>\n",
              "      <td>3.000000</td>\n",
              "      <td>0.00</td>\n",
              "      <td>1.00</td>\n",
              "      <td>0.00</td>\n",
              "      <td>hr</td>\n",
              "      <td>low</td>\n",
              "    </tr>\n",
              "    <tr>\n",
              "      <th>5</th>\n",
              "      <td>0.840000</td>\n",
              "      <td>0.870000</td>\n",
              "      <td>4.00</td>\n",
              "      <td>246.000000</td>\n",
              "      <td>6.000000</td>\n",
              "      <td>0.00</td>\n",
              "      <td>1.00</td>\n",
              "      <td>0.00</td>\n",
              "      <td>hr</td>\n",
              "      <td>low</td>\n",
              "    </tr>\n",
              "    <tr>\n",
              "      <th>6</th>\n",
              "      <td>0.100000</td>\n",
              "      <td>0.940000</td>\n",
              "      <td>6.00</td>\n",
              "      <td>255.000000</td>\n",
              "      <td>4.000000</td>\n",
              "      <td>0.00</td>\n",
              "      <td>1.00</td>\n",
              "      <td>0.00</td>\n",
              "      <td>technical</td>\n",
              "      <td>low</td>\n",
              "    </tr>\n",
              "    <tr>\n",
              "      <th>7</th>\n",
              "      <td>0.380000</td>\n",
              "      <td>0.460000</td>\n",
              "      <td>2.00</td>\n",
              "      <td>137.000000</td>\n",
              "      <td>3.000000</td>\n",
              "      <td>0.00</td>\n",
              "      <td>1.00</td>\n",
              "      <td>0.00</td>\n",
              "      <td>technical</td>\n",
              "      <td>low</td>\n",
              "    </tr>\n",
              "    <tr>\n",
              "      <th>8</th>\n",
              "      <td>0.450000</td>\n",
              "      <td>0.500000</td>\n",
              "      <td>2.00</td>\n",
              "      <td>126.000000</td>\n",
              "      <td>3.000000</td>\n",
              "      <td>0.00</td>\n",
              "      <td>1.00</td>\n",
              "      <td>0.00</td>\n",
              "      <td>techanical</td>\n",
              "      <td>low</td>\n",
              "    </tr>\n",
              "    <tr>\n",
              "      <th>9</th>\n",
              "      <td>0.483929</td>\n",
              "      <td>0.639286</td>\n",
              "      <td>2.50</td>\n",
              "      <td>145.785714</td>\n",
              "      <td>3.571429</td>\n",
              "      <td>0.00</td>\n",
              "      <td>1.00</td>\n",
              "      <td>0.00</td>\n",
              "      <td>techanical</td>\n",
              "      <td>low</td>\n",
              "    </tr>\n",
              "  </tbody>\n",
              "</table>\n",
              "</div>\n",
              "    <div class=\"colab-df-buttons\">\n",
              "\n",
              "  <div class=\"colab-df-container\">\n",
              "    <button class=\"colab-df-convert\" onclick=\"convertToInteractive('df-9839806e-9f2d-466d-8f4e-8284ea887914')\"\n",
              "            title=\"Convert this dataframe to an interactive table.\"\n",
              "            style=\"display:none;\">\n",
              "\n",
              "  <svg xmlns=\"http://www.w3.org/2000/svg\" height=\"24px\" viewBox=\"0 -960 960 960\">\n",
              "    <path d=\"M120-120v-720h720v720H120Zm60-500h600v-160H180v160Zm220 220h160v-160H400v160Zm0 220h160v-160H400v160ZM180-400h160v-160H180v160Zm440 0h160v-160H620v160ZM180-180h160v-160H180v160Zm440 0h160v-160H620v160Z\"/>\n",
              "  </svg>\n",
              "    </button>\n",
              "\n",
              "  <style>\n",
              "    .colab-df-container {\n",
              "      display:flex;\n",
              "      gap: 12px;\n",
              "    }\n",
              "\n",
              "    .colab-df-convert {\n",
              "      background-color: #E8F0FE;\n",
              "      border: none;\n",
              "      border-radius: 50%;\n",
              "      cursor: pointer;\n",
              "      display: none;\n",
              "      fill: #1967D2;\n",
              "      height: 32px;\n",
              "      padding: 0 0 0 0;\n",
              "      width: 32px;\n",
              "    }\n",
              "\n",
              "    .colab-df-convert:hover {\n",
              "      background-color: #E2EBFA;\n",
              "      box-shadow: 0px 1px 2px rgba(60, 64, 67, 0.3), 0px 1px 3px 1px rgba(60, 64, 67, 0.15);\n",
              "      fill: #174EA6;\n",
              "    }\n",
              "\n",
              "    .colab-df-buttons div {\n",
              "      margin-bottom: 4px;\n",
              "    }\n",
              "\n",
              "    [theme=dark] .colab-df-convert {\n",
              "      background-color: #3B4455;\n",
              "      fill: #D2E3FC;\n",
              "    }\n",
              "\n",
              "    [theme=dark] .colab-df-convert:hover {\n",
              "      background-color: #434B5C;\n",
              "      box-shadow: 0px 1px 3px 1px rgba(0, 0, 0, 0.15);\n",
              "      filter: drop-shadow(0px 1px 2px rgba(0, 0, 0, 0.3));\n",
              "      fill: #FFFFFF;\n",
              "    }\n",
              "  </style>\n",
              "\n",
              "    <script>\n",
              "      const buttonEl =\n",
              "        document.querySelector('#df-9839806e-9f2d-466d-8f4e-8284ea887914 button.colab-df-convert');\n",
              "      buttonEl.style.display =\n",
              "        google.colab.kernel.accessAllowed ? 'block' : 'none';\n",
              "\n",
              "      async function convertToInteractive(key) {\n",
              "        const element = document.querySelector('#df-9839806e-9f2d-466d-8f4e-8284ea887914');\n",
              "        const dataTable =\n",
              "          await google.colab.kernel.invokeFunction('convertToInteractive',\n",
              "                                                    [key], {});\n",
              "        if (!dataTable) return;\n",
              "\n",
              "        const docLinkHtml = 'Like what you see? Visit the ' +\n",
              "          '<a target=\"_blank\" href=https://colab.research.google.com/notebooks/data_table.ipynb>data table notebook</a>'\n",
              "          + ' to learn more about interactive tables.';\n",
              "        element.innerHTML = '';\n",
              "        dataTable['output_type'] = 'display_data';\n",
              "        await google.colab.output.renderOutput(dataTable, element);\n",
              "        const docLink = document.createElement('div');\n",
              "        docLink.innerHTML = docLinkHtml;\n",
              "        element.appendChild(docLink);\n",
              "      }\n",
              "    </script>\n",
              "  </div>\n",
              "\n",
              "\n",
              "<div id=\"df-7f62b469-cf55-4d5f-9955-b44f000b5f4a\">\n",
              "  <button class=\"colab-df-quickchart\" onclick=\"quickchart('df-7f62b469-cf55-4d5f-9955-b44f000b5f4a')\"\n",
              "            title=\"Suggest charts\"\n",
              "            style=\"display:none;\">\n",
              "\n",
              "<svg xmlns=\"http://www.w3.org/2000/svg\" height=\"24px\"viewBox=\"0 0 24 24\"\n",
              "     width=\"24px\">\n",
              "    <g>\n",
              "        <path d=\"M19 3H5c-1.1 0-2 .9-2 2v14c0 1.1.9 2 2 2h14c1.1 0 2-.9 2-2V5c0-1.1-.9-2-2-2zM9 17H7v-7h2v7zm4 0h-2V7h2v10zm4 0h-2v-4h2v4z\"/>\n",
              "    </g>\n",
              "</svg>\n",
              "  </button>\n",
              "\n",
              "<style>\n",
              "  .colab-df-quickchart {\n",
              "      --bg-color: #E8F0FE;\n",
              "      --fill-color: #1967D2;\n",
              "      --hover-bg-color: #E2EBFA;\n",
              "      --hover-fill-color: #174EA6;\n",
              "      --disabled-fill-color: #AAA;\n",
              "      --disabled-bg-color: #DDD;\n",
              "  }\n",
              "\n",
              "  [theme=dark] .colab-df-quickchart {\n",
              "      --bg-color: #3B4455;\n",
              "      --fill-color: #D2E3FC;\n",
              "      --hover-bg-color: #434B5C;\n",
              "      --hover-fill-color: #FFFFFF;\n",
              "      --disabled-bg-color: #3B4455;\n",
              "      --disabled-fill-color: #666;\n",
              "  }\n",
              "\n",
              "  .colab-df-quickchart {\n",
              "    background-color: var(--bg-color);\n",
              "    border: none;\n",
              "    border-radius: 50%;\n",
              "    cursor: pointer;\n",
              "    display: none;\n",
              "    fill: var(--fill-color);\n",
              "    height: 32px;\n",
              "    padding: 0;\n",
              "    width: 32px;\n",
              "  }\n",
              "\n",
              "  .colab-df-quickchart:hover {\n",
              "    background-color: var(--hover-bg-color);\n",
              "    box-shadow: 0 1px 2px rgba(60, 64, 67, 0.3), 0 1px 3px 1px rgba(60, 64, 67, 0.15);\n",
              "    fill: var(--button-hover-fill-color);\n",
              "  }\n",
              "\n",
              "  .colab-df-quickchart-complete:disabled,\n",
              "  .colab-df-quickchart-complete:disabled:hover {\n",
              "    background-color: var(--disabled-bg-color);\n",
              "    fill: var(--disabled-fill-color);\n",
              "    box-shadow: none;\n",
              "  }\n",
              "\n",
              "  .colab-df-spinner {\n",
              "    border: 2px solid var(--fill-color);\n",
              "    border-color: transparent;\n",
              "    border-bottom-color: var(--fill-color);\n",
              "    animation:\n",
              "      spin 1s steps(1) infinite;\n",
              "  }\n",
              "\n",
              "  @keyframes spin {\n",
              "    0% {\n",
              "      border-color: transparent;\n",
              "      border-bottom-color: var(--fill-color);\n",
              "      border-left-color: var(--fill-color);\n",
              "    }\n",
              "    20% {\n",
              "      border-color: transparent;\n",
              "      border-left-color: var(--fill-color);\n",
              "      border-top-color: var(--fill-color);\n",
              "    }\n",
              "    30% {\n",
              "      border-color: transparent;\n",
              "      border-left-color: var(--fill-color);\n",
              "      border-top-color: var(--fill-color);\n",
              "      border-right-color: var(--fill-color);\n",
              "    }\n",
              "    40% {\n",
              "      border-color: transparent;\n",
              "      border-right-color: var(--fill-color);\n",
              "      border-top-color: var(--fill-color);\n",
              "    }\n",
              "    60% {\n",
              "      border-color: transparent;\n",
              "      border-right-color: var(--fill-color);\n",
              "    }\n",
              "    80% {\n",
              "      border-color: transparent;\n",
              "      border-right-color: var(--fill-color);\n",
              "      border-bottom-color: var(--fill-color);\n",
              "    }\n",
              "    90% {\n",
              "      border-color: transparent;\n",
              "      border-bottom-color: var(--fill-color);\n",
              "    }\n",
              "  }\n",
              "</style>\n",
              "\n",
              "  <script>\n",
              "    async function quickchart(key) {\n",
              "      const quickchartButtonEl =\n",
              "        document.querySelector('#' + key + ' button');\n",
              "      quickchartButtonEl.disabled = true;  // To prevent multiple clicks.\n",
              "      quickchartButtonEl.classList.add('colab-df-spinner');\n",
              "      try {\n",
              "        const charts = await google.colab.kernel.invokeFunction(\n",
              "            'suggestCharts', [key], {});\n",
              "      } catch (error) {\n",
              "        console.error('Error during call to suggestCharts:', error);\n",
              "      }\n",
              "      quickchartButtonEl.classList.remove('colab-df-spinner');\n",
              "      quickchartButtonEl.classList.add('colab-df-quickchart-complete');\n",
              "    }\n",
              "    (() => {\n",
              "      let quickchartButtonEl =\n",
              "        document.querySelector('#df-7f62b469-cf55-4d5f-9955-b44f000b5f4a button');\n",
              "      quickchartButtonEl.style.display =\n",
              "        google.colab.kernel.accessAllowed ? 'block' : 'none';\n",
              "    })();\n",
              "  </script>\n",
              "</div>\n",
              "\n",
              "    </div>\n",
              "  </div>\n"
            ],
            "application/vnd.google.colaboratory.intrinsic+json": {
              "type": "dataframe",
              "summary": "{\n  \"name\": \"display(pd\",\n  \"rows\": 10,\n  \"fields\": [\n    {\n      \"column\": \"satisfaction_level\",\n      \"properties\": {\n        \"dtype\": \"number\",\n        \"std\": 0.20949323708229806,\n        \"min\": 0.09,\n        \"max\": 0.84,\n        \"num_unique_values\": 7,\n        \"samples\": [\n          0.38,\n          0.09,\n          0.1\n        ],\n        \"semantic_type\": \"\",\n        \"description\": \"\"\n      }\n    },\n    {\n      \"column\": \"last_evaluation\",\n      \"properties\": {\n        \"dtype\": \"number\",\n        \"std\": 0.17631695910498005,\n        \"min\": 0.38,\n        \"max\": 0.94,\n        \"num_unique_values\": 10,\n        \"samples\": [\n          0.5,\n          0.62,\n          0.87\n        ],\n        \"semantic_type\": \"\",\n        \"description\": \"\"\n      }\n    },\n    {\n      \"column\": \"number_project\",\n      \"properties\": {\n        \"dtype\": \"number\",\n        \"std\": 1.8555909510928796,\n        \"min\": 0.38,\n        \"max\": 6.0,\n        \"num_unique_values\": 5,\n        \"samples\": [\n          6.0,\n          2.5,\n          2.0\n        ],\n        \"semantic_type\": \"\",\n        \"description\": \"\"\n      }\n    },\n    {\n      \"column\": \"average_montly_hours\",\n      \"properties\": {\n        \"dtype\": \"number\",\n        \"std\": 83.6593126160638,\n        \"min\": 0.38,\n        \"max\": 294.0,\n        \"num_unique_values\": 10,\n        \"samples\": [\n          126.0,\n          294.0,\n          246.0\n        ],\n        \"semantic_type\": \"\",\n        \"description\": \"\"\n      }\n    },\n    {\n      \"column\": \"time_spend_company\",\n      \"properties\": {\n        \"dtype\": \"number\",\n        \"std\": 1.3872369640972746,\n        \"min\": 0.38,\n        \"max\": 6.0,\n        \"num_unique_values\": 5,\n        \"samples\": [\n          4.0,\n          3.57142857142857,\n          3.0\n        ],\n        \"semantic_type\": \"\",\n        \"description\": \"\"\n      }\n    },\n    {\n      \"column\": \"Work_accident\",\n      \"properties\": {\n        \"dtype\": \"number\",\n        \"std\": 0.12016655108639843,\n        \"min\": 0.0,\n        \"max\": 0.38,\n        \"num_unique_values\": 2,\n        \"samples\": [\n          0.0,\n          0.38\n        ],\n        \"semantic_type\": \"\",\n        \"description\": \"\"\n      }\n    },\n    {\n      \"column\": \"left\",\n      \"properties\": {\n        \"dtype\": \"number\",\n        \"std\": 0.19606121493043951,\n        \"min\": 0.38,\n        \"max\": 1.0,\n        \"num_unique_values\": 2,\n        \"samples\": [\n          1.0,\n          0.38\n        ],\n        \"semantic_type\": \"\",\n        \"description\": \"\"\n      }\n    },\n    {\n      \"column\": \"promotion_last_5years\",\n      \"properties\": {\n        \"dtype\": \"number\",\n        \"std\": 0.12016655108639843,\n        \"min\": 0.0,\n        \"max\": 0.38,\n        \"num_unique_values\": 2,\n        \"samples\": [\n          0.0,\n          0.38\n        ],\n        \"semantic_type\": \"\",\n        \"description\": \"\"\n      }\n    },\n    {\n      \"column\": \"sales\",\n      \"properties\": {\n        \"dtype\": \"category\",\n        \"num_unique_values\": 4,\n        \"samples\": [\n          \"hr\",\n          \"techanical\"\n        ],\n        \"semantic_type\": \"\",\n        \"description\": \"\"\n      }\n    },\n    {\n      \"column\": \"salary\",\n      \"properties\": {\n        \"dtype\": \"category\",\n        \"num_unique_values\": 1,\n        \"samples\": [\n          \"low\"\n        ],\n        \"semantic_type\": \"\",\n        \"description\": \"\"\n      }\n    }\n  ]\n}"
            }
          },
          "metadata": {}
        }
      ]
    },
    {
      "cell_type": "code",
      "source": [
        "department_employee_count = df.groupby('sales').size().reset_index(name='num_employees')\n",
        "department_employee_count.insert(0, 'Serial No', range(1, len(department_employee_count) + 1))\n",
        "print(\"Department-wise Employee Count\")\n",
        "print(tabulate(department_employee_count, headers='keys', tablefmt='grid', showindex=False))"
      ],
      "metadata": {
        "colab": {
          "base_uri": "https://localhost:8080/"
        },
        "id": "B-ouxOojXhoQ",
        "outputId": "32cc2d81-c28a-4ef7-9056-0ee92f8f4730"
      },
      "execution_count": 58,
      "outputs": [
        {
          "output_type": "stream",
          "name": "stdout",
          "text": [
            "Department-wise Employee Count\n",
            "+-------------+------------+-----------------+\n",
            "|   Serial No | sales      |   num_employees |\n",
            "+=============+============+=================+\n",
            "|           1 | accounting |               2 |\n",
            "+-------------+------------+-----------------+\n",
            "|           2 | hr         |               4 |\n",
            "+-------------+------------+-----------------+\n",
            "|           3 | technical  |               4 |\n",
            "+-------------+------------+-----------------+\n"
          ]
        }
      ]
    },
    {
      "cell_type": "code",
      "source": [
        "left_employees_department = df[df['left'] == 1].groupby('sales').size().reset_index(name='num_employees')\n",
        "left_employees_department['rank'] = left_employees_department['num_employees'].rank(ascending=False)\n",
        "left_employees_department.insert(0, 'Serial No', range(1, len(left_employees_department) + 1))\n",
        "print(\"\\nDepartment-wise Employee Count of Employees Who Left and Their Rank\")\n",
        "print(tabulate(left_employees_department, headers='keys', tablefmt='grid', showindex=False))"
      ],
      "metadata": {
        "colab": {
          "base_uri": "https://localhost:8080/"
        },
        "id": "yxILy_PaXli8",
        "outputId": "5260f46a-8251-44de-ddc4-692fbc083b94"
      },
      "execution_count": 59,
      "outputs": [
        {
          "output_type": "stream",
          "name": "stdout",
          "text": [
            "\n",
            "Department-wise Employee Count of Employees Who Left and Their Rank\n",
            "+-------------+------------+-----------------+--------+\n",
            "|   Serial No | sales      |   num_employees |   rank |\n",
            "+=============+============+=================+========+\n",
            "|           1 | accounting |               2 |    3   |\n",
            "+-------------+------------+-----------------+--------+\n",
            "|           2 | hr         |               4 |    1.5 |\n",
            "+-------------+------------+-----------------+--------+\n",
            "|           3 | technical  |               4 |    1.5 |\n",
            "+-------------+------------+-----------------+--------+\n"
          ]
        }
      ]
    },
    {
      "cell_type": "code",
      "source": [
        "avg_time_hours = df.groupby(['sales', 'left']).agg(\n",
        "    avg_time_spend_company=('time_spend_company', 'mean'),\n",
        "    avg_average_monthly_hours=('average_montly_hours', 'mean')\n",
        ").reset_index()\n",
        "\n",
        "# Pivot table for heatmap\n",
        "heatmap_data = avg_time_hours.pivot(index='sales', columns='left', values=['avg_time_spend_company', 'avg_average_monthly_hours'])\n",
        "\n",
        "# Reset index to flatten the pivot table for tabulate\n",
        "heatmap_data_reset = heatmap_data.reset_index()\n",
        "\n",
        "# Add serial number column\n",
        "heatmap_data_reset.insert(0, 'Serial No', range(1, len(heatmap_data_reset) + 1))\n",
        "\n",
        "# Print the table with a dotted line\n",
        "print(\"\\nHeatmap Data for Average Time Spent and Monthly Hours by Department and Left Status\")\n",
        "print(tabulate(heatmap_data_reset, headers='keys', tablefmt='grid', showindex=False))"
      ],
      "metadata": {
        "colab": {
          "base_uri": "https://localhost:8080/"
        },
        "id": "RIE-jbU-VJkY",
        "outputId": "d57560a4-40d9-4572-bd77-99a359735ba1"
      },
      "execution_count": 47,
      "outputs": [
        {
          "output_type": "stream",
          "name": "stdout",
          "text": [
            "\n",
            "Heatmap Data for Average Time Spent and Monthly Hours by Department and Left Status\n",
            "+---------------------+-----------------+---------------------------------+------------------------------------+\n",
            "|   ('Serial No', '') | ('sales', '')   |   ('avg_time_spend_company', 1) |   ('avg_average_monthly_hours', 1) |\n",
            "+=====================+=================+=================================+====================================+\n",
            "|                   1 | accounting      |                            3.5  |                             213    |\n",
            "+---------------------+-----------------+---------------------------------+------------------------------------+\n",
            "|                   2 | hr              |                            3.75 |                             166.25 |\n",
            "+---------------------+-----------------+---------------------------------+------------------------------------+\n",
            "|                   3 | technical       |                            3.5  |                             206    |\n",
            "+---------------------+-----------------+---------------------------------+------------------------------------+\n"
          ]
        }
      ]
    },
    {
      "cell_type": "code",
      "source": [
        "accident_promotion_stats = df.groupby([\"left\", \"sales\"]).agg(\n",
        "    count_work_accident=(\"Work_accident\", \"sum\"),\n",
        "    count_promotion_last_5years=(\"promotion_last_5years\", \"sum\")\n",
        ").reset_index()\n",
        "\n",
        "# Sort by 'sales'\n",
        "accident_promotion_stats_sorted = accident_promotion_stats.sort_values(by=\"sales\")\n",
        "\n",
        "# Add serial number column\n",
        "accident_promotion_stats_sorted.insert(0, 'Serial No', range(1, len(accident_promotion_stats_sorted) + 1))\n",
        "\n",
        "# Print the table with a dotted line\n",
        "print(\"\\nCount of Work Accidents and Promotions by Department and Left Status\")\n",
        "print(tabulate(accident_promotion_stats_sorted, headers='keys', tablefmt='grid', showindex=False))"
      ],
      "metadata": {
        "colab": {
          "base_uri": "https://localhost:8080/"
        },
        "id": "VMY875WBVWOb",
        "outputId": "bece3c01-18d4-42b8-87a4-e6f46149df09"
      },
      "execution_count": 49,
      "outputs": [
        {
          "output_type": "stream",
          "name": "stdout",
          "text": [
            "\n",
            "Count of Work Accidents and Promotions by Department and Left Status\n",
            "+-------------+--------+------------+-----------------------+-------------------------------+\n",
            "|   Serial No |   left | sales      |   count_work_accident |   count_promotion_last_5years |\n",
            "+=============+========+============+=======================+===============================+\n",
            "|           1 |      1 | accounting |                     0 |                             0 |\n",
            "+-------------+--------+------------+-----------------------+-------------------------------+\n",
            "|           2 |      1 | hr         |                     0 |                             0 |\n",
            "+-------------+--------+------------+-----------------------+-------------------------------+\n",
            "|           3 |      1 | technical  |                     0 |                             0 |\n",
            "+-------------+--------+------------+-----------------------+-------------------------------+\n"
          ]
        }
      ]
    },
    {
      "cell_type": "code",
      "source": [
        "eval_satisfaction_stats = df.groupby([\"left\", \"sales\"]).agg(\n",
        "    min_last_evaluation=(\"last_evaluation\", \"min\"),\n",
        "    max_last_evaluation=(\"last_evaluation\", \"max\"),\n",
        "    avg_last_evaluation=(\"last_evaluation\", \"mean\"),\n",
        "    min_satisfaction_level=(\"satisfaction_level\", \"min\"),\n",
        "    max_satisfaction_level=(\"satisfaction_level\", \"max\"),\n",
        "    avg_satisfaction_level=(\"satisfaction_level\", \"mean\")\n",
        ").reset_index()\n",
        "\n",
        "# Sort by 'sales'\n",
        "eval_satisfaction_stats_sorted = eval_satisfaction_stats.sort_values(by=\"sales\")\n",
        "\n",
        "# Add serial number column\n",
        "eval_satisfaction_stats_sorted.insert(0, 'Serial No', range(1, len(eval_satisfaction_stats_sorted) + 1))\n",
        "\n",
        "# Print the table with a dotted line\n",
        "print(\"\\nEvaluation and Satisfaction Statistics by Department and Left Status\")\n",
        "print(tabulate(eval_satisfaction_stats_sorted, headers='keys', tablefmt='grid', showindex=False))"
      ],
      "metadata": {
        "colab": {
          "base_uri": "https://localhost:8080/"
        },
        "id": "V4pnOGYNVdM3",
        "outputId": "12dbd71f-031b-45e6-db30-4256300e668a"
      },
      "execution_count": 50,
      "outputs": [
        {
          "output_type": "stream",
          "name": "stdout",
          "text": [
            "\n",
            "Evaluation and Satisfaction Statistics by Department and Left Status\n",
            "+-------------+--------+------------+-----------------------+-----------------------+-----------------------+--------------------------+--------------------------+--------------------------+\n",
            "|   Serial No |   left | sales      |   min_last_evaluation |   max_last_evaluation |   avg_last_evaluation |   min_satisfaction_level |   max_satisfaction_level |   avg_satisfaction_level |\n",
            "+=============+========+============+=======================+=======================+=======================+==========================+==========================+==========================+\n",
            "|           1 |      1 | accounting |                  0.5  |                  0.62 |                0.56   |                     0.09 |                     0.38 |                    0.235 |\n",
            "+-------------+--------+------------+-----------------------+-----------------------+-----------------------+--------------------------+--------------------------+--------------------------+\n",
            "|           2 |      1 | hr         |                  0.51 |                  0.87 |                0.625  |                     0.4  |                     0.84 |                    0.535 |\n",
            "+-------------+--------+------------+-----------------------+-----------------------+-----------------------+--------------------------+--------------------------+--------------------------+\n",
            "|           3 |      1 | technical  |                  0.46 |                  0.94 |                0.6975 |                     0.1  |                     0.45 |                    0.26  |\n",
            "+-------------+--------+------------+-----------------------+-----------------------+-----------------------+--------------------------+--------------------------+--------------------------+\n"
          ]
        }
      ]
    },
    {
      "cell_type": "code",
      "source": [
        "min_max_time_hours = df.groupby([\"left\", \"sales\"]).agg(\n",
        "    min_time_spend_company=(\"time_spend_company\", \"min\"),\n",
        "    max_time_spend_company=(\"time_spend_company\", \"max\"),\n",
        "    min_average_montly_hours=(\"average_montly_hours\", \"min\"),\n",
        "    max_average_montly_hours=(\"average_montly_hours\", \"max\")\n",
        ").reset_index()\n",
        "\n",
        "# Sort the results by 'sales'\n",
        "min_max_time_hours_sorted = min_max_time_hours.sort_values(by=\"sales\")\n",
        "\n",
        "# Add serial number column\n",
        "min_max_time_hours_sorted.insert(0, 'Serial No', range(1, len(min_max_time_hours_sorted) + 1))\n",
        "\n",
        "print(\"\\nMinimum and Maximum Time Spent and Monthly Hours by Department and Left Status\")\n",
        "print(tabulate(min_max_time_hours_sorted, headers='keys', tablefmt='grid', showindex=False))\n"
      ],
      "metadata": {
        "colab": {
          "base_uri": "https://localhost:8080/"
        },
        "id": "L9mRULmfWjNr",
        "outputId": "58ce2d47-8328-4e58-d02f-189d69ef8f74"
      },
      "execution_count": 54,
      "outputs": [
        {
          "output_type": "stream",
          "name": "stdout",
          "text": [
            "\n",
            "Minimum and Maximum Time Spent and Monthly Hours by Department and Left Status\n",
            "+-------------+--------+------------+--------------------------+--------------------------+----------------------------+----------------------------+\n",
            "|   Serial No |   left | sales      |   min_time_spend_company |   max_time_spend_company |   min_average_montly_hours |   max_average_montly_hours |\n",
            "+=============+========+============+==========================+==========================+============================+============================+\n",
            "|           1 |      1 | accounting |                        3 |                        4 |                        132 |                        294 |\n",
            "+-------------+--------+------------+--------------------------+--------------------------+----------------------------+----------------------------+\n",
            "|           2 |      1 | hr         |                        3 |                        6 |                        134 |                        246 |\n",
            "+-------------+--------+------------+--------------------------+--------------------------+----------------------------+----------------------------+\n",
            "|           3 |      1 | technical  |                        3 |                        4 |                        126 |                        306 |\n",
            "+-------------+--------+------------+--------------------------+--------------------------+----------------------------+----------------------------+\n"
          ]
        }
      ]
    },
    {
      "cell_type": "code",
      "source": [
        "avg_time_hours_sorted = df.groupby([\"left\", \"sales\"]).agg(\n",
        "    avg_time_spend_company=(\"time_spend_company\", \"mean\"),\n",
        "    avg_average_montly_hours=(\"average_montly_hours\", \"mean\")\n",
        ").reset_index().sort_values(by=\"sales\")\n",
        "\n",
        "min_max_time_hours_sorted = df.groupby([\"left\", \"sales\"]).agg(\n",
        "    min_time_spend_company=(\"time_spend_company\", \"min\"),\n",
        "    max_time_spend_company=(\"time_spend_company\", \"max\"),\n",
        "    min_average_montly_hours=(\"average_montly_hours\", \"min\"),\n",
        "    max_average_montly_hours=(\"average_montly_hours\", \"max\")\n",
        ").reset_index().sort_values(by=\"sales\")\n",
        "eval_satisfaction_stats_sorted = df.groupby([\"left\", \"sales\"]).agg(\n",
        "    min_last_evaluation=(\"last_evaluation\", \"min\"),\n",
        "    max_last_evaluation=(\"last_evaluation\", \"max\"),\n",
        "    avg_last_evaluation=(\"last_evaluation\", \"mean\"),\n",
        "    min_satisfaction_level=(\"satisfaction_level\", \"min\"),\n",
        "    max_satisfaction_level=(\"satisfaction_level\", \"max\"),\n",
        "    avg_satisfaction_level=(\"satisfaction_level\", \"mean\")\n",
        ").reset_index().sort_values(by=\"sales\")\n",
        "\n",
        "accident_promotion_stats_sorted = df.groupby([\"left\", \"sales\"]).agg(\n",
        "    count_work_accident=(\"Work_accident\", \"sum\"),\n",
        "    count_promotion_last_5years=(\"promotion_last_5years\", \"sum\")\n",
        ").reset_index().sort_values(by=\"sales\")\n",
        "\n",
        "# Merging data frames\n",
        "merged_results = pd.merge(avg_time_hours_sorted, min_max_time_hours_sorted, on=[\"left\", \"sales\"])\n",
        "merged_results = pd.merge(merged_results, eval_satisfaction_stats_sorted, on=[\"left\", \"sales\"])\n",
        "merged_results = pd.merge(merged_results, accident_promotion_stats_sorted, on=[\"left\", \"sales\"])\n",
        "\n",
        "# Add serial number column\n",
        "merged_results.insert(0, 'Serial No', range(1, len(merged_results) + 1))\n",
        "\n",
        "# Print the table with grid lines\n",
        "print(\"\\nMerged Results Table\")\n",
        "print(tabulate(merged_results, headers='keys', tablefmt='grid', showindex=False))\n"
      ],
      "metadata": {
        "colab": {
          "base_uri": "https://localhost:8080/"
        },
        "id": "ZHKJtQm3W5Zc",
        "outputId": "d4fdfd61-b979-4f6c-c8a1-d3d565ca806f"
      },
      "execution_count": 55,
      "outputs": [
        {
          "output_type": "stream",
          "name": "stdout",
          "text": [
            "\n",
            "Merged Results Table\n",
            "+-------------+--------+------------+--------------------------+----------------------------+--------------------------+--------------------------+----------------------------+----------------------------+-----------------------+-----------------------+-----------------------+--------------------------+--------------------------+--------------------------+-----------------------+-------------------------------+\n",
            "|   Serial No |   left | sales      |   avg_time_spend_company |   avg_average_montly_hours |   min_time_spend_company |   max_time_spend_company |   min_average_montly_hours |   max_average_montly_hours |   min_last_evaluation |   max_last_evaluation |   avg_last_evaluation |   min_satisfaction_level |   max_satisfaction_level |   avg_satisfaction_level |   count_work_accident |   count_promotion_last_5years |\n",
            "+=============+========+============+==========================+============================+==========================+==========================+============================+============================+=======================+=======================+=======================+==========================+==========================+==========================+=======================+===============================+\n",
            "|           1 |      1 | accounting |                     3.5  |                     213    |                        3 |                        4 |                        132 |                        294 |                  0.5  |                  0.62 |                0.56   |                     0.09 |                     0.38 |                    0.235 |                     0 |                             0 |\n",
            "+-------------+--------+------------+--------------------------+----------------------------+--------------------------+--------------------------+----------------------------+----------------------------+-----------------------+-----------------------+-----------------------+--------------------------+--------------------------+--------------------------+-----------------------+-------------------------------+\n",
            "|           2 |      1 | hr         |                     3.75 |                     166.25 |                        3 |                        6 |                        134 |                        246 |                  0.51 |                  0.87 |                0.625  |                     0.4  |                     0.84 |                    0.535 |                     0 |                             0 |\n",
            "+-------------+--------+------------+--------------------------+----------------------------+--------------------------+--------------------------+----------------------------+----------------------------+-----------------------+-----------------------+-----------------------+--------------------------+--------------------------+--------------------------+-----------------------+-------------------------------+\n",
            "|           3 |      1 | technical  |                     3.5  |                     206    |                        3 |                        4 |                        126 |                        306 |                  0.46 |                  0.94 |                0.6975 |                     0.1  |                     0.45 |                    0.26  |                     0 |                             0 |\n",
            "+-------------+--------+------------+--------------------------+----------------------------+--------------------------+--------------------------+----------------------------+----------------------------+-----------------------+-----------------------+-----------------------+--------------------------+--------------------------+--------------------------+-----------------------+-------------------------------+\n"
          ]
        }
      ]
    },
    {
      "cell_type": "code",
      "source": [
        "import matplotlib.pyplot as plt\n",
        "import seaborn as sns\n",
        "\n",
        "# Ensure avg_time_hours_sorted DataFrame has the required columns: 'sales', 'avg_time_spend_company', 'left'\n",
        "\n",
        "# Create the grouped bar chart\n",
        "plt.figure(figsize=(14, 8))\n",
        "sns.barplot(x='sales', y='avg_time_spend_company', hue='left', data=avg_time_hours_sorted)\n",
        "\n",
        "# Set labels and title\n",
        "plt.xlabel('Department')\n",
        "plt.ylabel('Average Time Spent in Company')\n",
        "plt.title('Average Time Spent in Company by Department (Left vs Not Left)')\n",
        "\n",
        "# Rotate x-axis labels for better readability\n",
        "plt.xticks(rotation=45)\n",
        "\n",
        "# Add legend\n",
        "plt.legend(title='Left')\n",
        "\n",
        "# Display the plot\n",
        "plt.show()"
      ],
      "metadata": {
        "colab": {
          "base_uri": "https://localhost:8080/",
          "height": 768
        },
        "id": "T_vksg85XRes",
        "outputId": "d21bfec2-c4e2-40e3-bb64-d933354fabe1"
      },
      "execution_count": 57,
      "outputs": [
        {
          "output_type": "display_data",
          "data": {
            "text/plain": [
              "<Figure size 1400x800 with 1 Axes>"
            ],
            "image/png": "[encoded data removed]"
          },
          "metadata": {}
        }
      ]
    },
    {
      "cell_type": "code",
      "source": [
        "import seaborn as sns\n",
        "import matplotlib.pyplot as plt\n",
        "import pandas as pd\n",
        "\n",
        "avg_time_hours = df.groupby([\"left\", \"sales\"]).agg(\n",
        "    avg_time_spend_company=(\"time_spend_company\", \"mean\"),\n",
        "    avg_average_montly_hours=(\"average_montly_hours\", \"mean\")\n",
        ").reset_index()\n",
        "\n",
        "# Pivot table for heatmap\n",
        "heatmap_data = avg_time_hours.pivot(index='sales', columns='left', values=['avg_time_spend_company', 'avg_average_montly_hours'])\n",
        "\n",
        "# Plot heatmap\n",
        "plt.figure(figsize=(12, 8))\n",
        "\n",
        "# Plot avg_time_spend_company\n",
        "plt.subplot(1, 2, 1)\n",
        "sns.heatmap(heatmap_data['avg_time_spend_company'], annot=True, cmap='coolwarm', fmt=\".1f\", linewidths=0.5)\n",
        "plt.title('Average Time Spent in Company')\n",
        "plt.xlabel('Left')\n",
        "plt.ylabel('Department')\n",
        "\n",
        "# Plot avg_average_montly_hours\n",
        "plt.subplot(1, 2, 2)\n",
        "sns.heatmap(heatmap_data['avg_average_montly_hours'], annot=True, cmap='coolwarm', fmt=\".1f\", linewidths=0.5)\n",
        "plt.title('Average Monthly Hours')\n",
        "plt.xlabel('Left')\n",
        "plt.ylabel('Department')\n",
        "\n",
        "plt.tight_layout()\n",
        "plt.show()"
      ],
      "metadata": {
        "colab": {
          "base_uri": "https://localhost:8080/",
          "height": 807
        },
        "id": "FPsE_v-5XEMD",
        "outputId": "02dfca8e-6be8-48df-e238-d4d255f76d22"
      },
      "execution_count": 56,
      "outputs": [
        {
          "output_type": "display_data",
          "data": {
            "text/plain": [
              "<Figure size 1200x800 with 4 Axes>"
            ],
            "image/png": "[encoded data removed]"
          },
          "metadata": {}
        }
      ]
    }
  ]
}