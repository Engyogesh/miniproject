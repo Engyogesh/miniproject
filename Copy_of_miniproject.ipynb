{
  "nbformat": 4,
  "nbformat_minor": 0,
  "metadata": {
    "colab": {
      "provenance": [],
      "authorship_tag": "ABX9TyPFe6Yq9c5SRHeP33K+mhOV",
      "include_colab_link": true
    },
    "kernelspec": {
      "name": "python3",
      "display_name": "Python 3"
    },
    "language_info": {
      "name": "python"
    }
  },
  "cells": [
    {
      "cell_type": "markdown",
      "metadata": {
        "id": "view-in-github",
        "colab_type": "text"
      },
      "source": [
        "<a href=\"https://colab.research.google.com/github/Engyogesh/miniproject/blob/main/Copy_of_miniproject.ipynb\" target=\"_parent\"><img src=\"https://colab.research.google.com/assets/colab-badge.svg\" alt=\"Open In Colab\"/></a>"
      ]
    },
    {
      "cell_type": "code",
      "source": [
        "pip install pandas pandas-profiling"
      ],
      "metadata": {
        "colab": {
          "base_uri": "https://localhost:8080/"
        },
        "id": "YfJH7-yEAxhb",
        "outputId": "ba060227-887f-4a6e-ecfd-162847b70473"
      },
      "execution_count": null,
      "outputs": [
        {
          "output_type": "stream",
          "name": "stdout",
          "text": [
            "Requirement already satisfied: pandas in /usr/local/lib/python3.10/dist-packages (2.1.4)\n",
            "Requirement already satisfied: pandas-profiling in /usr/local/lib/python3.10/dist-packages (3.6.6)\n",
            "Requirement already satisfied: numpy<2,>=1.22.4 in /usr/local/lib/python3.10/dist-packages (from pandas) (1.26.4)\n",
            "Requirement already satisfied: python-dateutil>=2.8.2 in /usr/local/lib/python3.10/dist-packages (from pandas) (2.8.2)\n",
            "Requirement already satisfied: pytz>=2020.1 in /usr/local/lib/python3.10/dist-packages (from pandas) (2024.1)\n",
            "Requirement already satisfied: tzdata>=2022.1 in /usr/local/lib/python3.10/dist-packages (from pandas) (2024.1)\n",
            "Requirement already satisfied: ydata-profiling in /usr/local/lib/python3.10/dist-packages (from pandas-profiling) (4.9.0)\n",
            "Requirement already satisfied: six>=1.5 in /usr/local/lib/python3.10/dist-packages (from python-dateutil>=2.8.2->pandas) (1.16.0)\n",
            "Requirement already satisfied: scipy<1.14,>=1.4.1 in /usr/local/lib/python3.10/dist-packages (from ydata-profiling->pandas-profiling) (1.13.1)\n",
            "Requirement already satisfied: matplotlib<3.10,>=3.5 in /usr/local/lib/python3.10/dist-packages (from ydata-profiling->pandas-profiling) (3.7.1)\n",
            "Requirement already satisfied: pydantic>=2 in /usr/local/lib/python3.10/dist-packages (from ydata-profiling->pandas-profiling) (2.8.2)\n",
            "Requirement already satisfied: PyYAML<6.1,>=5.0.0 in /usr/local/lib/python3.10/dist-packages (from ydata-profiling->pandas-profiling) (6.0.2)\n",
            "Requirement already satisfied: jinja2<3.2,>=2.11.1 in /usr/local/lib/python3.10/dist-packages (from ydata-profiling->pandas-profiling) (3.1.4)\n",
            "Requirement already satisfied: visions<0.7.7,>=0.7.5 in /usr/local/lib/python3.10/dist-packages (from visions[type_image_path]<0.7.7,>=0.7.5->ydata-profiling->pandas-profiling) (0.7.6)\n",
            "Requirement already satisfied: htmlmin==0.1.12 in /usr/local/lib/python3.10/dist-packages (from ydata-profiling->pandas-profiling) (0.1.12)\n",
            "Requirement already satisfied: phik<0.13,>=0.11.1 in /usr/local/lib/python3.10/dist-packages (from ydata-profiling->pandas-profiling) (0.12.4)\n",
            "Requirement already satisfied: requests<3,>=2.24.0 in /usr/local/lib/python3.10/dist-packages (from ydata-profiling->pandas-profiling) (2.32.3)\n",
            "Requirement already satisfied: tqdm<5,>=4.48.2 in /usr/local/lib/python3.10/dist-packages (from ydata-profiling->pandas-profiling) (4.66.5)\n",
            "Requirement already satisfied: seaborn<0.14,>=0.10.1 in /usr/local/lib/python3.10/dist-packages (from ydata-profiling->pandas-profiling) (0.13.1)\n",
            "Requirement already satisfied: multimethod<2,>=1.4 in /usr/local/lib/python3.10/dist-packages (from ydata-profiling->pandas-profiling) (1.12)\n",
            "Requirement already satisfied: statsmodels<1,>=0.13.2 in /usr/local/lib/python3.10/dist-packages (from ydata-profiling->pandas-profiling) (0.14.2)\n",
            "Requirement already satisfied: typeguard<5,>=3 in /usr/local/lib/python3.10/dist-packages (from ydata-profiling->pandas-profiling) (4.3.0)\n",
            "Requirement already satisfied: imagehash==4.3.1 in /usr/local/lib/python3.10/dist-packages (from ydata-profiling->pandas-profiling) (4.3.1)\n",
            "Requirement already satisfied: wordcloud>=1.9.1 in /usr/local/lib/python3.10/dist-packages (from ydata-profiling->pandas-profiling) (1.9.3)\n",
            "Requirement already satisfied: dacite>=1.8 in /usr/local/lib/python3.10/dist-packages (from ydata-profiling->pandas-profiling) (1.8.1)\n",
            "Requirement already satisfied: numba<1,>=0.56.0 in /usr/local/lib/python3.10/dist-packages (from ydata-profiling->pandas-profiling) (0.60.0)\n",
            "Requirement already satisfied: PyWavelets in /usr/local/lib/python3.10/dist-packages (from imagehash==4.3.1->ydata-profiling->pandas-profiling) (1.7.0)\n",
            "Requirement already satisfied: pillow in /usr/local/lib/python3.10/dist-packages (from imagehash==4.3.1->ydata-profiling->pandas-profiling) (9.4.0)\n",
            "Requirement already satisfied: MarkupSafe>=2.0 in /usr/local/lib/python3.10/dist-packages (from jinja2<3.2,>=2.11.1->ydata-profiling->pandas-profiling) (2.1.5)\n",
            "Requirement already satisfied: contourpy>=1.0.1 in /usr/local/lib/python3.10/dist-packages (from matplotlib<3.10,>=3.5->ydata-profiling->pandas-profiling) (1.2.1)\n",
            "Requirement already satisfied: cycler>=0.10 in /usr/local/lib/python3.10/dist-packages (from matplotlib<3.10,>=3.5->ydata-profiling->pandas-profiling) (0.12.1)\n",
            "Requirement already satisfied: fonttools>=4.22.0 in /usr/local/lib/python3.10/dist-packages (from matplotlib<3.10,>=3.5->ydata-profiling->pandas-profiling) (4.53.1)\n",
            "Requirement already satisfied: kiwisolver>=1.0.1 in /usr/local/lib/python3.10/dist-packages (from matplotlib<3.10,>=3.5->ydata-profiling->pandas-profiling) (1.4.5)\n",
            "Requirement already satisfied: packaging>=20.0 in /usr/local/lib/python3.10/dist-packages (from matplotlib<3.10,>=3.5->ydata-profiling->pandas-profiling) (24.1)\n",
            "Requirement already satisfied: pyparsing>=2.3.1 in /usr/local/lib/python3.10/dist-packages (from matplotlib<3.10,>=3.5->ydata-profiling->pandas-profiling) (3.1.2)\n",
            "Requirement already satisfied: llvmlite<0.44,>=0.43.0dev0 in /usr/local/lib/python3.10/dist-packages (from numba<1,>=0.56.0->ydata-profiling->pandas-profiling) (0.43.0)\n",
            "Requirement already satisfied: joblib>=0.14.1 in /usr/local/lib/python3.10/dist-packages (from phik<0.13,>=0.11.1->ydata-profiling->pandas-profiling) (1.4.2)\n",
            "Requirement already satisfied: annotated-types>=0.4.0 in /usr/local/lib/python3.10/dist-packages (from pydantic>=2->ydata-profiling->pandas-profiling) (0.7.0)\n",
            "Requirement already satisfied: pydantic-core==2.20.1 in /usr/local/lib/python3.10/dist-packages (from pydantic>=2->ydata-profiling->pandas-profiling) (2.20.1)\n",
            "Requirement already satisfied: typing-extensions>=4.6.1 in /usr/local/lib/python3.10/dist-packages (from pydantic>=2->ydata-profiling->pandas-profiling) (4.12.2)\n",
            "Requirement already satisfied: charset-normalizer<4,>=2 in /usr/local/lib/python3.10/dist-packages (from requests<3,>=2.24.0->ydata-profiling->pandas-profiling) (3.3.2)\n",
            "Requirement already satisfied: idna<4,>=2.5 in /usr/local/lib/python3.10/dist-packages (from requests<3,>=2.24.0->ydata-profiling->pandas-profiling) (3.7)\n",
            "Requirement already satisfied: urllib3<3,>=1.21.1 in /usr/local/lib/python3.10/dist-packages (from requests<3,>=2.24.0->ydata-profiling->pandas-profiling) (2.0.7)\n",
            "Requirement already satisfied: certifi>=2017.4.17 in /usr/local/lib/python3.10/dist-packages (from requests<3,>=2.24.0->ydata-profiling->pandas-profiling) (2024.7.4)\n",
            "Requirement already satisfied: patsy>=0.5.6 in /usr/local/lib/python3.10/dist-packages (from statsmodels<1,>=0.13.2->ydata-profiling->pandas-profiling) (0.5.6)\n",
            "Requirement already satisfied: attrs>=19.3.0 in /usr/local/lib/python3.10/dist-packages (from visions<0.7.7,>=0.7.5->visions[type_image_path]<0.7.7,>=0.7.5->ydata-profiling->pandas-profiling) (24.2.0)\n",
            "Requirement already satisfied: networkx>=2.4 in /usr/local/lib/python3.10/dist-packages (from visions<0.7.7,>=0.7.5->visions[type_image_path]<0.7.7,>=0.7.5->ydata-profiling->pandas-profiling) (3.3)\n"
          ]
        }
      ]
    },
    {
      "cell_type": "code",
      "execution_count": null,
      "metadata": {
        "colab": {
          "base_uri": "https://localhost:8080/"
        },
        "id": "rfFjFslx3DXt",
        "outputId": "5142381e-8199-433d-a10c-1f97d81a4952"
      },
      "outputs": [
        {
          "output_type": "stream",
          "name": "stdout",
          "text": [
            "    satisfaction_level  last_evaluation  number_project  average_montly_hours  \\\n",
            "0                 0.38             0.53               2                   157   \n",
            "1                 0.80             0.86               5                   262   \n",
            "2                 0.11             0.88               7                   272   \n",
            "3                 0.72             0.87               5                   223   \n",
            "4                 0.37             0.52               2                   159   \n",
            "5                 0.41             0.50               2                   153   \n",
            "6                 0.10             0.77               6                   247   \n",
            "7                 0.92             0.85               5                   259   \n",
            "8                 0.89             1.00               5                   224   \n",
            "9                 0.42             0.53               2                   142   \n",
            "10                0.45             0.54               2                   135   \n",
            "11                0.11             0.81               6                   305   \n",
            "12                0.84             0.92               4                   234   \n",
            "13                0.41             0.55               2                   148   \n",
            "14                0.36             0.56               2                   137   \n",
            "15                0.38             0.54               2                   143   \n",
            "16                0.45             0.47               2                   160   \n",
            "17                0.78             0.99               4                   255   \n",
            "18                0.45             0.51               2                   160   \n",
            "19                0.76             0.89               5                   262   \n",
            "20                0.11             0.83               6                   282   \n",
            "21                0.38             0.55               2                   147   \n",
            "22                0.09             0.95               6                   304   \n",
            "23                0.46             0.57               2                   139   \n",
            "24                0.40             0.53               2                   158   \n",
            "25                0.89             0.92               5                   242   \n",
            "26                0.40             0.49               2                   135   \n",
            "27                0.82             0.87               4                   239   \n",
            "28                0.41             0.46               2                   128   \n",
            "29                0.38             0.50               2                   132   \n",
            "30                0.09             0.62               6                   294   \n",
            "31                0.45             0.57               2                   134   \n",
            "32                0.40             0.51               2                   145   \n",
            "33                0.45             0.55               2                   140   \n",
            "34                0.84             0.87               4                   246   \n",
            "35                0.10             0.94               6                   255   \n",
            "36                0.38             0.46               2                   137   \n",
            "37                0.45             0.50               2                   126   \n",
            "38                0.11             0.89               6                 30655   \n",
            "\n",
            "    time_spend_company  Work_accident  left  promotion_last_5years  \\\n",
            "0                    3              0     1                      0   \n",
            "1                    6              0     1                      0   \n",
            "2                    4              0     1                      0   \n",
            "3                    5              0     1                      0   \n",
            "4                    3              0     1                      0   \n",
            "5                    3              0     1                      0   \n",
            "6                    4              0     1                      0   \n",
            "7                    5              0     1                      0   \n",
            "8                    5              0     1                      0   \n",
            "9                    3              0     1                      0   \n",
            "10                   3              0     1                      0   \n",
            "11                   4              0     1                      0   \n",
            "12                   5              0     1                      0   \n",
            "13                   3              0     1                      0   \n",
            "14                   3              0     1                      0   \n",
            "15                   3              0     1                      0   \n",
            "16                   3              0     1                      0   \n",
            "17                   6              0     1                      0   \n",
            "18                   3              1     1                      1   \n",
            "19                   5              0     1                      0   \n",
            "20                   4              0     1                      0   \n",
            "21                   3              0     1                      0   \n",
            "22                   4              0     1                      0   \n",
            "23                   3              0     1                      0   \n",
            "24                   3              0     1                      0   \n",
            "25                   5              0     1                      0   \n",
            "26                   3              0     1                      0   \n",
            "27                   5              0     1                      0   \n",
            "28                   3              0     1                      0   \n",
            "29                   3              0     1                      0   \n",
            "30                   4              0     1                      0   \n",
            "31                   3              0     1                      0   \n",
            "32                   3              0     1                      0   \n",
            "33                   3              0     1                      0   \n",
            "34                   6              0     1                      0   \n",
            "35                   4              0     1                      0   \n",
            "36                   3              0     1                      0   \n",
            "37                   3              0     1                      0   \n",
            "38                   4              0     1                      0   \n",
            "\n",
            "         sales  salary  \n",
            "0        sales     low  \n",
            "1        sales  medium  \n",
            "2        sales  medium  \n",
            "3        sales     low  \n",
            "4        sales     low  \n",
            "5        sales     low  \n",
            "6        sales     low  \n",
            "7        sales     low  \n",
            "8        sales     low  \n",
            "9        sales     low  \n",
            "10       sales     low  \n",
            "11       sales     low  \n",
            "12       sales     low  \n",
            "13       sales     low  \n",
            "14       sales     low  \n",
            "15       sales     low  \n",
            "16       sales     low  \n",
            "17       sales     low  \n",
            "18       sales     low  \n",
            "19       sales     low  \n",
            "20       sales     low  \n",
            "21       sales     low  \n",
            "22       sales     low  \n",
            "23       sales     low  \n",
            "24       sales     low  \n",
            "25       sales     low  \n",
            "26       sales     low  \n",
            "27       sales     low  \n",
            "28  accounting     low  \n",
            "29  accounting     low  \n",
            "30  accounting     low  \n",
            "31          hr     low  \n",
            "32          hr     low  \n",
            "33          hr     low  \n",
            "34          hr     low  \n",
            "35  techanical     low  \n",
            "36  techanical     low  \n",
            "37  techanical     low  \n",
            "38  techanical     low  \n"
          ]
        }
      ],
      "source": [
        "import pandas as ref\n",
        "\n",
        "\n",
        "# Creating the DataFrame from the given data\n",
        "data = [\n",
        "    {\"satisfaction_level\": 0.38, \"last_evaluation\": 0.53, \"number_project\": 2, \"average_montly_hours\": 157, \"time_spend_company\": 3, \"Work_accident\": 0, \"left\": 1, \"promotion_last_5years\": 0, \"sales\": \"sales\", \"salary\": \"low\"},\n",
        "    {\"satisfaction_level\": 0.8, \"last_evaluation\": 0.86, \"number_project\": 5, \"average_montly_hours\": 262, \"time_spend_company\": 6, \"Work_accident\": 0, \"left\": 1, \"promotion_last_5years\": 0, \"sales\": \"sales\", \"salary\": \"medium\"},\n",
        "    {\"satisfaction_level\": 0.11, \"last_evaluation\": 0.88, \"number_project\": 7, \"average_montly_hours\": 272, \"time_spend_company\": 4, \"Work_accident\": 0, \"left\": 1, \"promotion_last_5years\": 0, \"sales\": \"sales\", \"salary\": \"medium\"},\n",
        "    {\"satisfaction_level\": 0.72, \"last_evaluation\": 0.87, \"number_project\": 5, \"average_montly_hours\": 223, \"time_spend_company\": 5, \"Work_accident\": 0, \"left\": 1, \"promotion_last_5years\": 0, \"sales\": \"sales\", \"salary\": \"low\"},\n",
        "    {\"satisfaction_level\": 0.37, \"last_evaluation\": 0.52, \"number_project\": 2, \"average_montly_hours\": 159, \"time_spend_company\": 3, \"Work_accident\": 0, \"left\": 1, \"promotion_last_5years\": 0, \"sales\": \"sales\", \"salary\": \"low\"},\n",
        "    {\"satisfaction_level\": 0.41, \"last_evaluation\": 0.5, \"number_project\": 2, \"average_montly_hours\": 153, \"time_spend_company\": 3, \"Work_accident\": 0, \"left\": 1, \"promotion_last_5years\": 0, \"sales\": \"sales\", \"salary\": \"low\"},\n",
        "    {\"satisfaction_level\": 0.1, \"last_evaluation\": 0.77, \"number_project\": 6, \"average_montly_hours\": 247, \"time_spend_company\": 4, \"Work_accident\": 0, \"left\": 1, \"promotion_last_5years\": 0, \"sales\": \"sales\", \"salary\": \"low\"},\n",
        "    {\"satisfaction_level\": 0.92, \"last_evaluation\": 0.85, \"number_project\": 5, \"average_montly_hours\": 259, \"time_spend_company\": 5, \"Work_accident\": 0, \"left\": 1, \"promotion_last_5years\": 0, \"sales\": \"sales\", \"salary\": \"low\"},\n",
        "    {\"satisfaction_level\": 0.89, \"last_evaluation\": 1, \"number_project\": 5, \"average_montly_hours\": 224, \"time_spend_company\": 5, \"Work_accident\": 0, \"left\": 1, \"promotion_last_5years\": 0, \"sales\": \"sales\", \"salary\": \"low\"},\n",
        "    {\"satisfaction_level\": 0.42, \"last_evaluation\": 0.53, \"number_project\": 2, \"average_montly_hours\": 142, \"time_spend_company\": 3, \"Work_accident\": 0, \"left\": 1, \"promotion_last_5years\": 0, \"sales\": \"sales\", \"salary\": \"low\"},\n",
        "    {\"satisfaction_level\": 0.45, \"last_evaluation\": 0.54, \"number_project\": 2, \"average_montly_hours\": 135, \"time_spend_company\": 3, \"Work_accident\": 0, \"left\": 1, \"promotion_last_5years\": 0, \"sales\": \"sales\", \"salary\": \"low\"},\n",
        "    {\"satisfaction_level\": 0.11, \"last_evaluation\": 0.81, \"number_project\": 6, \"average_montly_hours\": 305, \"time_spend_company\": 4, \"Work_accident\": 0, \"left\": 1, \"promotion_last_5years\": 0, \"sales\": \"sales\", \"salary\": \"low\"},\n",
        "    {\"satisfaction_level\": 0.84, \"last_evaluation\": 0.92, \"number_project\": 4, \"average_montly_hours\": 234, \"time_spend_company\": 5, \"Work_accident\": 0, \"left\": 1, \"promotion_last_5years\": 0, \"sales\": \"sales\", \"salary\": \"low\"},\n",
        "    {\"satisfaction_level\": 0.41, \"last_evaluation\": 0.55, \"number_project\": 2, \"average_montly_hours\": 148, \"time_spend_company\": 3, \"Work_accident\": 0, \"left\": 1, \"promotion_last_5years\": 0, \"sales\": \"sales\", \"salary\": \"low\"},\n",
        "    {\"satisfaction_level\": 0.36, \"last_evaluation\": 0.56, \"number_project\": 2, \"average_montly_hours\": 137, \"time_spend_company\": 3, \"Work_accident\": 0, \"left\": 1, \"promotion_last_5years\": 0, \"sales\": \"sales\", \"salary\": \"low\"},\n",
        "    {\"satisfaction_level\": 0.38, \"last_evaluation\": 0.54, \"number_project\": 2, \"average_montly_hours\": 143, \"time_spend_company\": 3, \"Work_accident\": 0, \"left\": 1, \"promotion_last_5years\": 0, \"sales\": \"sales\", \"salary\": \"low\"},\n",
        "    {\"satisfaction_level\": 0.45, \"last_evaluation\": 0.47, \"number_project\": 2, \"average_montly_hours\": 160, \"time_spend_company\": 3, \"Work_accident\": 0, \"left\": 1, \"promotion_last_5years\": 0, \"sales\": \"sales\", \"salary\": \"low\"},\n",
        "    {\"satisfaction_level\": 0.78, \"last_evaluation\": 0.99, \"number_project\": 4, \"average_montly_hours\": 255, \"time_spend_company\": 6, \"Work_accident\": 0, \"left\": 1, \"promotion_last_5years\": 0, \"sales\": \"sales\", \"salary\": \"low\"},\n",
        "    {\"satisfaction_level\": 0.45, \"last_evaluation\": 0.51, \"number_project\": 2, \"average_montly_hours\": 160, \"time_spend_company\": 3, \"Work_accident\": 1, \"left\": 1, \"promotion_last_5years\": 1, \"sales\": \"sales\", \"salary\": \"low\"},\n",
        "    {\"satisfaction_level\": 0.76, \"last_evaluation\": 0.89, \"number_project\": 5, \"average_montly_hours\": 262, \"time_spend_company\": 5, \"Work_accident\": 0, \"left\": 1, \"promotion_last_5years\": 0, \"sales\": \"sales\", \"salary\": \"low\"},\n",
        "    {\"satisfaction_level\": 0.11, \"last_evaluation\": 0.83, \"number_project\": 6, \"average_montly_hours\": 282, \"time_spend_company\": 4, \"Work_accident\": 0, \"left\": 1, \"promotion_last_5years\": 0, \"sales\": \"sales\", \"salary\": \"low\"},\n",
        "    {\"satisfaction_level\": 0.38, \"last_evaluation\": 0.55, \"number_project\": 2, \"average_montly_hours\": 147, \"time_spend_company\": 3, \"Work_accident\": 0, \"left\": 1, \"promotion_last_5years\": 0, \"sales\": \"sales\", \"salary\": \"low\"},\n",
        "    {\"satisfaction_level\": 0.09, \"last_evaluation\": 0.95, \"number_project\": 6, \"average_montly_hours\": 304, \"time_spend_company\": 4, \"Work_accident\": 0, \"left\": 1, \"promotion_last_5years\": 0, \"sales\": \"sales\", \"salary\": \"low\"},\n",
        "    {\"satisfaction_level\": 0.46, \"last_evaluation\": 0.57, \"number_project\": 2, \"average_montly_hours\": 139, \"time_spend_company\": 3, \"Work_accident\": 0, \"left\": 1, \"promotion_last_5years\": 0, \"sales\": \"sales\", \"salary\": \"low\"},\n",
        "    {\"satisfaction_level\": 0.4, \"last_evaluation\": 0.53, \"number_project\": 2, \"average_montly_hours\": 158, \"time_spend_company\": 3, \"Work_accident\": 0, \"left\": 1, \"promotion_last_5years\": 0, \"sales\": \"sales\", \"salary\": \"low\"},\n",
        "    {\"satisfaction_level\": 0.89, \"last_evaluation\": 0.92, \"number_project\": 5, \"average_montly_hours\": 242, \"time_spend_company\": 5, \"Work_accident\": 0, \"left\": 1, \"promotion_last_5years\": 0, \"sales\": \"sales\", \"salary\": \"low\"},\n",
        "    {\"satisfaction_level\": 0.4, \"last_evaluation\": 0.49, \"number_project\": 2, \"average_montly_hours\": 135, \"time_spend_company\": 3, \"Work_accident\": 0, \"left\": 1, \"promotion_last_5years\": 0, \"sales\": \"sales\", \"salary\": \"low\"},\n",
        "    {\"satisfaction_level\": 0.82, \"last_evaluation\": 0.87, \"number_project\": 4, \"average_montly_hours\": 239, \"time_spend_company\": 5, \"Work_accident\": 0, \"left\": 1, \"promotion_last_5years\": 0, \"sales\": \"sales\", \"salary\": \"low\"},\n",
        "    {\"satisfaction_level\": 0.41, \"last_evaluation\": 0.46, \"number_project\": 2, \"average_montly_hours\": 128, \"time_spend_company\": 3, \"Work_accident\": 0, \"left\": 1, \"promotion_last_5years\": 0, \"sales\": \"accounting\", \"salary\": \"low\"},\n",
        "    {\"satisfaction_level\": 0.38, \"last_evaluation\": 0.5, \"number_project\": 2, \"average_montly_hours\": 132, \"time_spend_company\": 3, \"Work_accident\": 0, \"left\": 1, \"promotion_last_5years\": 0, \"sales\": \"accounting\", \"salary\": \"low\"},\n",
        "    {\"satisfaction_level\": 0.09, \"last_evaluation\": 0.62, \"number_project\": 6, \"average_montly_hours\": 294, \"time_spend_company\": 4, \"Work_accident\": 0, \"left\": 1, \"promotion_last_5years\": 0, \"sales\": \"accounting\", \"salary\": \"low\"},\n",
        "    {\"satisfaction_level\": 0.45, \"last_evaluation\": 0.57, \"number_project\": 2, \"average_montly_hours\": 134, \"time_spend_company\": 3, \"Work_accident\": 0, \"left\": 1, \"promotion_last_5years\": 0, \"sales\": \"hr\", \"salary\": \"low\"},\n",
        "    {\"satisfaction_level\": 0.4, \"last_evaluation\": 0.51, \"number_project\": 2, \"average_montly_hours\": 145, \"time_spend_company\": 3, \"Work_accident\": 0, \"left\": 1, \"promotion_last_5years\": 0, \"sales\": \"hr\", \"salary\": \"low\"},\n",
        "    {\"satisfaction_level\": 0.45, \"last_evaluation\": 0.55, \"number_project\": 2, \"average_montly_hours\": 140, \"time_spend_company\": 3, \"Work_accident\": 0, \"left\": 1, \"promotion_last_5years\": 0, \"sales\": \"hr\", \"salary\": \"low\"},\n",
        "    {\"satisfaction_level\": 0.84, \"last_evaluation\": 0.87, \"number_project\": 4, \"average_montly_hours\": 246, \"time_spend_company\": 6, \"Work_accident\": 0, \"left\": 1, \"promotion_last_5years\": 0, \"sales\": \"hr\", \"salary\": \"low\"},\n",
        "    {\"satisfaction_level\": 0.1, \"last_evaluation\": 0.94, \"number_project\": 6, \"average_montly_hours\": 255, \"time_spend_company\": 4, \"Work_accident\": 0, \"left\": 1, \"promotion_last_5years\": 0, \"sales\": \"techanical\", \"salary\": \"low\"},\n",
        "    {\"satisfaction_level\": 0.38, \"last_evaluation\": 0.46, \"number_project\": 2, \"average_montly_hours\": 137, \"time_spend_company\": 3, \"Work_accident\": 0, \"left\": 1, \"promotion_last_5years\": 0, \"sales\": \"techanical\", \"salary\": \"low\"},\n",
        "    {\"satisfaction_level\": 0.45, \"last_evaluation\": 0.5, \"number_project\": 2, \"average_montly_hours\": 126, \"time_spend_company\": 3, \"Work_accident\": 0, \"left\": 1, \"promotion_last_5years\": 0, \"sales\": \"techanical\", \"salary\": \"low\"},\n",
        "    {\"satisfaction_level\": 0.11, \"last_evaluation\": 0.89, \"number_project\": 6, \"average_montly_hours\": 30655, \"time_spend_company\": 4, \"Work_accident\": 0, \"left\": 1, \"promotion_last_5years\": 0, \"sales\": \"techanical\", \"salary\": \"low\"}\n",
        "]\n",
        "\n",
        "df = ref.DataFrame(data)\n",
        "print(df)\n"
      ]
    },
    {
      "cell_type": "code",
      "source": [
        "department_counts = df.groupby(\"sales\").size().reset_index(name=\"num_employees\")\n",
        "print(department_counts)"
      ],
      "metadata": {
        "colab": {
          "base_uri": "https://localhost:8080/"
        },
        "id": "kb6GqN1mDtZp",
        "outputId": "a67517cc-b713-4c83-fc02-0d7fa6274d3e"
      },
      "execution_count": null,
      "outputs": [
        {
          "output_type": "stream",
          "name": "stdout",
          "text": [
            "        sales  num_employees\n",
            "0  accounting              3\n",
            "1          hr              4\n",
            "2       sales             28\n",
            "3  techanical              4\n"
          ]
        }
      ]
    },
    {
      "cell_type": "code",
      "source": [
        "df_left = df[df[\"left\"] == 1]\n",
        "department_left_counts = df_left.groupby(\"sales\").size().reset_index(name=\"num_employees\")\n",
        "department_left_counts[\"rank\"] = department_left_counts[\"num_employees\"].rank(ascending=False, method='dense').astype(int)\n",
        "print(department_left_counts)"
      ],
      "metadata": {
        "colab": {
          "base_uri": "https://localhost:8080/"
        },
        "id": "ptm1r5BHECkP",
        "outputId": "0df63012-b8a3-42a2-9e29-929e316a9eb8"
      },
      "execution_count": null,
      "outputs": [
        {
          "output_type": "stream",
          "name": "stdout",
          "text": [
            "        sales  num_employees  rank\n",
            "0  accounting              3     3\n",
            "1          hr              4     2\n",
            "2       sales             28     1\n",
            "3  techanical              4     2\n"
          ]
        }
      ]
    },
    {
      "cell_type": "code",
      "source": [
        "\n",
        "avg_time_hours = df.groupby([\"left\", \"sales\"]).agg(\n",
        "    avg_time_spend_company=(\"time_spend_company\", \"mean\"),\n",
        "    avg_average_montly_hours=(\"average_montly_hours\", \"mean\")\n",
        ").reset_index()\n",
        "\n",
        "avg_time_hours_sorted = avg_time_hours.sort_values(by=\"sales\")\n",
        "\n",
        "print(avg_time_hours_sorted)\n"
      ],
      "metadata": {
        "colab": {
          "base_uri": "https://localhost:8080/"
        },
        "id": "0BxRIV0gEl9L",
        "outputId": "919b023d-0096-499c-9b9f-134ba3e5ef29"
      },
      "execution_count": null,
      "outputs": [
        {
          "output_type": "stream",
          "name": "stdout",
          "text": [
            "   left       sales  avg_time_spend_company  avg_average_montly_hours\n",
            "0     1  accounting                3.333333                184.666667\n",
            "1     1          hr                3.750000                166.250000\n",
            "2     1       sales                3.892857                202.964286\n",
            "3     1  techanical                3.500000               7793.250000\n"
          ]
        }
      ]
    },
    {
      "cell_type": "code",
      "source": [
        "\n",
        "min_max_time_hours = df.groupby([\"left\", \"sales\"]).agg(\n",
        "    min_time_spend_company=(\"time_spend_company\", \"min\"),\n",
        "    max_time_spend_company=(\"time_spend_company\", \"max\"),\n",
        "    min_average_montly_hours=(\"average_montly_hours\", \"min\"),\n",
        "    max_average_montly_hours=(\"average_montly_hours\", \"max\")\n",
        ").reset_index()\n",
        "\n",
        "\n",
        "min_max_time_hours_sorted = min_max_time_hours.sort_values(by=\"sales\")\n",
        "\n",
        "\n",
        "print(min_max_time_hours_sorted)\n"
      ],
      "metadata": {
        "colab": {
          "base_uri": "https://localhost:8080/"
        },
        "id": "H_eaZjokEw3O",
        "outputId": "601f41f3-6cd2-417f-d527-c3b0943c7165"
      },
      "execution_count": null,
      "outputs": [
        {
          "output_type": "stream",
          "name": "stdout",
          "text": [
            "   left       sales  min_time_spend_company  max_time_spend_company  \\\n",
            "0     1  accounting                       3                       4   \n",
            "1     1          hr                       3                       6   \n",
            "2     1       sales                       3                       6   \n",
            "3     1  techanical                       3                       4   \n",
            "\n",
            "   min_average_montly_hours  max_average_montly_hours  \n",
            "0                       128                       294  \n",
            "1                       134                       246  \n",
            "2                       135                       305  \n",
            "3                       126                     30655  \n"
          ]
        }
      ]
    },
    {
      "cell_type": "code",
      "source": [
        "\n",
        "eval_satisfaction_stats = df.groupby([\"left\", \"sales\"]).agg(\n",
        "    min_last_evaluation=(\"last_evaluation\", \"min\"),\n",
        "    max_last_evaluation=(\"last_evaluation\", \"max\"),\n",
        "    avg_last_evaluation=(\"last_evaluation\", \"mean\"),\n",
        "    min_satisfaction_level=(\"satisfaction_level\", \"min\"),\n",
        "    max_satisfaction_level=(\"satisfaction_level\", \"max\"),\n",
        "    avg_satisfaction_level=(\"satisfaction_level\", \"mean\")\n",
        ").reset_index()\n",
        "\n",
        "eval_satisfaction_stats_sorted = eval_satisfaction_stats.sort_values(by=\"sales\")\n",
        "\n",
        "print(eval_satisfaction_stats_sorted)\n"
      ],
      "metadata": {
        "colab": {
          "base_uri": "https://localhost:8080/"
        },
        "id": "758DY9MjFQjd",
        "outputId": "82161810-c89c-4a20-c150-d74ddeceb67b"
      },
      "execution_count": null,
      "outputs": [
        {
          "output_type": "stream",
          "name": "stdout",
          "text": [
            "   left       sales  min_last_evaluation  max_last_evaluation  \\\n",
            "0     1  accounting                 0.46                 0.62   \n",
            "1     1          hr                 0.51                 0.87   \n",
            "2     1       sales                 0.47                 1.00   \n",
            "3     1  techanical                 0.46                 0.94   \n",
            "\n",
            "   avg_last_evaluation  min_satisfaction_level  max_satisfaction_level  \\\n",
            "0             0.526667                    0.09                    0.41   \n",
            "1             0.625000                    0.40                    0.84   \n",
            "2             0.707143                    0.09                    0.92   \n",
            "3             0.697500                    0.10                    0.45   \n",
            "\n",
            "   avg_satisfaction_level  \n",
            "0                0.293333  \n",
            "1                0.535000  \n",
            "2                0.487857  \n",
            "3                0.260000  \n"
          ]
        }
      ]
    },
    {
      "cell_type": "code",
      "source": [
        "\n",
        "accident_promotion_stats = df.groupby([\"left\", \"sales\"]).agg(\n",
        "    count_work_accident=(\"Work_accident\", \"sum\"),\n",
        "    count_promotion_last_5years=(\"promotion_last_5years\", \"sum\")\n",
        ").reset_index()\n",
        "\n",
        "accident_promotion_stats_sorted = accident_promotion_stats.sort_values(by=\"sales\")\n",
        "\n",
        "print(accident_promotion_stats_sorted)\n"
      ],
      "metadata": {
        "colab": {
          "base_uri": "https://localhost:8080/"
        },
        "id": "Xg3TiwYPFj96",
        "outputId": "2104bf72-1598-488b-fc13-16e5a5fec12c"
      },
      "execution_count": null,
      "outputs": [
        {
          "output_type": "stream",
          "name": "stdout",
          "text": [
            "   left       sales  count_work_accident  count_promotion_last_5years\n",
            "0     1  accounting                    0                            0\n",
            "1     1          hr                    0                            0\n",
            "2     1       sales                    1                            1\n",
            "3     1  techanical                    0                            0\n"
          ]
        }
      ]
    },
    {
      "cell_type": "code",
      "source": [
        "\n",
        "merged_results = pd.merge(avg_time_hours_sorted, min_max_time_hours_sorted, on=[\"left\", \"sales\"])\n",
        "merged_results = pd.merge(merged_results, eval_satisfaction_stats_sorted, on=[\"left\", \"sales\"])\n",
        "merged_results = pd.merge(merged_results, accident_promotion_stats_sorted, on=[\"left\", \"sales\"])\n",
        "\n",
        "print(merged_results)\n"
      ],
      "metadata": {
        "colab": {
          "base_uri": "https://localhost:8080/"
        },
        "id": "b9McQmJBFrfZ",
        "outputId": "4aca93d5-18c5-4ee2-d37c-4aa2d003576e"
      },
      "execution_count": null,
      "outputs": [
        {
          "output_type": "stream",
          "name": "stdout",
          "text": [
            "   left       sales  avg_time_spend_company  avg_average_montly_hours  \\\n",
            "0     1  accounting                3.333333                184.666667   \n",
            "1     1          hr                3.750000                166.250000   \n",
            "2     1       sales                3.892857                202.964286   \n",
            "3     1  techanical                3.500000               7793.250000   \n",
            "\n",
            "   min_time_spend_company  max_time_spend_company  min_average_montly_hours  \\\n",
            "0                       3                       4                       128   \n",
            "1                       3                       6                       134   \n",
            "2                       3                       6                       135   \n",
            "3                       3                       4                       126   \n",
            "\n",
            "   max_average_montly_hours  min_last_evaluation  max_last_evaluation  \\\n",
            "0                       294                 0.46                 0.62   \n",
            "1                       246                 0.51                 0.87   \n",
            "2                       305                 0.47                 1.00   \n",
            "3                     30655                 0.46                 0.94   \n",
            "\n",
            "   avg_last_evaluation  min_satisfaction_level  max_satisfaction_level  \\\n",
            "0             0.526667                    0.09                    0.41   \n",
            "1             0.625000                    0.40                    0.84   \n",
            "2             0.707143                    0.09                    0.92   \n",
            "3             0.697500                    0.10                    0.45   \n",
            "\n",
            "   avg_satisfaction_level  count_work_accident  count_promotion_last_5years  \n",
            "0                0.293333                    0                            0  \n",
            "1                0.535000                    0                            0  \n",
            "2                0.487857                    1                            1  \n",
            "3                0.260000                    0                            0  \n"
          ]
        }
      ]
    },
    {
      "cell_type": "code",
      "source": [
        "import seaborn as sns\n",
        "import matplotlib.pyplot as plt\n",
        "\n",
        "plt.figure(figsize=(10, 6))\n",
        "sns.barplot(x=\"sales\", y=\"avg_time_spend_company\", hue=\"left\", data=merged_results)\n",
        "\n",
        "plt.xlabel(\"Department (Sales)\")\n",
        "plt.ylabel(\"Average Time Spent in Company\")\n",
        "plt.title(\"Average Time Spent in Company by Department and Employee Status (Left/Not Left)\")\n",
        "plt.xticks(rotation=45)\n",
        "plt.legend(title=\"Left\")\n",
        "\n",
        "plt.tight_layout()\n",
        "plt.show()\n"
      ],
      "metadata": {
        "colab": {
          "base_uri": "https://localhost:8080/",
          "height": 627
        },
        "id": "f72hlndNFypi",
        "outputId": "e28ac31e-d144-4702-c96e-ad11b6803156"
      },
      "execution_count": null,
      "outputs": [
        {
          "output_type": "display_data",
          "data": {
            "text/plain": [
              "<Figure size 1000x600 with 1 Axes>"
            ],
            "image/png": "[encoded data removed]"
          },
          "metadata": {}
        }
      ]
    },
    {
      "cell_type": "code",
      "source": [
        "import pandas as pd\n",
        "\n",
        "# Sample data frame\n",
        "data = {\n",
        "    \"satisfaction_level\": [0.38, 0.09, 0.45, 0.40, 0.45, 0.84, 0.10, 0.38, 0.45, 0.11],\n",
        "    \"last_evaluation\": [0.50, 0.62, 0.57, 0.51, 0.55, 0.87, 0.94, 0.46, 0.50, 0.89],\n",
        "    \"number_project\": [2, 6, 2, 2, 2, 4, 6, 2, 2, 6],\n",
        "    \"average_montly_hours\": [132, 294, 134, 145, 140, 246, 255, 137, 126, 306],\n",
        "    \"time_spend_company\": [3, 4, 3, 3, 3, 6, 4, 3, 3, 4],\n",
        "    \"Work_accident\": [0, 0, 0, 0, 0, 0, 0, 0, 0, 0],\n",
        "    \"left\": [1, 1, 1, 1, 1, 1, 1, 1, 1, 1],\n",
        "    \"promotion_last_5years\": [0, 0, 0, 0, 0, 0, 0, 0, 0, 0],\n",
        "    \"sales\": [\"accounting\", \"accounting\", \"hr\", \"hr\", \"hr\", \"hr\", \"technical\", \"technical\", \"technical\", \"technical\"],\n",
        "    \"salary\": [\"low\", \"low\", \"low\", \"low\", \"low\", \"low\", \"low\", \"low\", \"low\", \"low\"]\n",
        "}\n",
        "\n",
        "df = pd.DataFrame(data)\n",
        "\n",
        "# Calculate average time_spend_company and average_montly_hours\n",
        "avg_time_hours = df.groupby(['sales', 'left']).agg(\n",
        "    avg_time_spend_company=('time_spend_company', 'mean'),\n",
        "    avg_average_monthly_hours=('average_montly_hours', 'mean')\n",
        ").reset_index()\n",
        "\n",
        "# Pivot table for heatmap\n",
        "heatmap_data = avg_time_hours.pivot(index='sales', columns='left', values=['avg_time_spend_company', 'avg_average_monthly_hours'])\n",
        "\n",
        "print(heatmap_data)\n"
      ],
      "metadata": {
        "colab": {
          "base_uri": "https://localhost:8080/"
        },
        "id": "JroH8rcQIrIu",
        "outputId": "b96c318b-5bc7-4c78-9242-70044d73bece"
      },
      "execution_count": null,
      "outputs": [
        {
          "output_type": "stream",
          "name": "stdout",
          "text": [
            "           avg_time_spend_company avg_average_monthly_hours\n",
            "left                            1                         1\n",
            "sales                                                      \n",
            "accounting                   3.50                    213.00\n",
            "hr                           3.75                    166.25\n",
            "technical                    3.50                    206.00\n"
          ]
        }
      ]
    },
    {
      "cell_type": "code",
      "source": [
        "import seaborn as sns\n",
        "import matplotlib.pyplot as plt\n",
        "\n",
        "# Set up the matplotlib figure\n",
        "plt.figure(figsize=(12, 6))\n",
        "\n",
        "# Plot heatmap for average time_spend_company\n",
        "plt.subplot(1, 2, 1)\n",
        "sns.heatmap(\n",
        "    heatmap_data['avg_time_spend_company'],\n",
        "    annot=True,\n",
        "    cmap='YlGnBu',\n",
        "    linewidths=0.5,\n",
        "    fmt='.2f'\n",
        ")\n",
        "plt.title('Average Time Spent in Company')\n",
        "plt.xlabel('Left Status (0 = Not Left, 1 = Left)')\n",
        "plt.ylabel('Department')\n",
        "\n",
        "# Plot heatmap for average average_montly_hours\n",
        "plt.subplot(1, 2, 2)\n",
        "sns.heatmap(\n",
        "    heatmap_data['avg_average_monthly_hours'],\n",
        "    annot=True,\n",
        "    cmap='YlGnBu',\n",
        "    linewidths=0.5,\n",
        "    fmt='.2f'\n",
        ")\n",
        "plt.title('Average Monthly Hours')\n",
        "plt.xlabel('Left Status (0 = Not Left, 1 = Left)')\n",
        "plt.ylabel('Department')\n",
        "\n",
        "plt.tight_layout()\n",
        "plt.show()\n"
      ],
      "metadata": {
        "colab": {
          "base_uri": "https://localhost:8080/",
          "height": 508
        },
        "id": "DoZiA1RuI4VS",
        "outputId": "0b3ba0a6-f6dd-40e2-f78b-319ce1846270"
      },
      "execution_count": null,
      "outputs": [
        {
          "output_type": "display_data",
          "data": {
            "text/plain": [
              "<Figure size 1200x600 with 4 Axes>"
            ],
            "image/png": "[encoded data removed]"
          },
          "metadata": {}
        }
      ]
    }
  ]
}