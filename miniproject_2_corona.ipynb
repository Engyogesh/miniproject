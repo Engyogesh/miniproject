{
  "nbformat": 4,
  "nbformat_minor": 0,
  "metadata": {
    "colab": {
      "provenance": [],
      "authorship_tag": "ABX9TyMgZqUc3sReI4eEn09ueXdq",
      "include_colab_link": true
    },
    "kernelspec": {
      "name": "python3",
      "display_name": "Python 3"
    },
    "language_info": {
      "name": "python"
    }
  },
  "cells": [
    {
      "cell_type": "markdown",
      "metadata": {
        "id": "view-in-github",
        "colab_type": "text"
      },
      "source": [
        "<a href=\"https://colab.research.google.com/github/Engyogesh/miniproject/blob/main/miniproject_2_corona.ipynb\" target=\"_parent\"><img src=\"https://colab.research.google.com/assets/colab-badge.svg\" alt=\"Open In Colab\"/></a>"
      ]
    },
    {
      "cell_type": "code",
      "execution_count": null,
      "metadata": {
        "id": "iIxiFHYybceQ"
      },
      "outputs": [],
      "source": [
        "import pandas as pd\n",
        "from tabulate import tabulate\n",
        "import traceback\n",
        "import numpy as np\n",
        "import matplotlib.pyplot as plt\n",
        "from requests import get\n",
        "import requests\n",
        "import os\n",
        "\n"
      ]
    },
    {
      "cell_type": "code",
      "source": [
        "from google.colab import drive\n",
        "drive.mount('/content/gdrive/')"
      ],
      "metadata": {
        "colab": {
          "base_uri": "https://localhost:8080/"
        },
        "id": "FPJ36xOheqFQ",
        "outputId": "db2014c8-df10-4a40-f145-c6ea0fe42946"
      },
      "execution_count": null,
      "outputs": [
        {
          "output_type": "stream",
          "name": "stdout",
          "text": [
            "Mounted at /content/gdrive/\n"
          ]
        }
      ]
    },
    {
      "cell_type": "code",
      "source": [
        "import pandas as pd\n",
        "Data = pd.read_excel(r'/content/gdrive/My Drive/mini project/corona deaths.xlsx')"
      ],
      "metadata": {
        "id": "Xw_2nQcme7Sl"
      },
      "execution_count": null,
      "outputs": []
    },
    {
      "cell_type": "code",
      "source": [
        "display(pd.DataFrame(Data))\n",
        "df = pd.DataFrame(Data)\n"
      ],
      "metadata": {
        "colab": {
          "base_uri": "https://localhost:8080/",
          "height": 1000
        },
        "id": "2O1P2I4idjcE",
        "outputId": "04ffd63d-ee46-42fa-dde3-b103141cde58"
      },
      "execution_count": null,
      "outputs": [
        {
          "output_type": "display_data",
          "data": {
            "text/plain": [
              "           State Country  Deaths  Date\n",
              "0     California     USA   34000  2020\n",
              "1          Texas     USA   29000  2020\n",
              "2        Florida     USA   27000  2021\n",
              "3       New York     USA   45000  2021\n",
              "4       Illinois     USA   23000  2020\n",
              "5        Georgia     USA   20000  2021\n",
              "6           Ohio     USA   18000  2021\n",
              "7   Pennsylvania     USA   21000  2020\n",
              "8       Gunnison     USA    1218  2020\n",
              "9       Hinsdale     USA   45144  2020\n",
              "10      Huerfano     USA    8674  2021\n",
              "11       Jackson     USA     942  2021\n",
              "12     Jefferson     USA   62123  2020\n",
              "13         Kiowa     USA   51467  2021\n",
              "14    Kit Carson     USA   19400  2021\n",
              "15      La Plata     USA     650  2020\n",
              "16          Lake     USA     132  2020\n",
              "17       Larimer     USA      42  2020\n",
              "18    Las Animas     USA    8234  2021\n",
              "19       Lincoln     USA      78  2021\n",
              "20         Logan     USA      47  2020\n",
              "21          Mesa     USA      63  2021\n",
              "22       Mineral     USA      77  2021\n",
              "23        Moffat     USA      95  2020\n",
              "24     Montezuma     USA      34  2020\n",
              "25      Montrose     USA      75  2020\n",
              "26        Morgan     USA      46  2021\n",
              "27         Otero     USA     251  2021\n",
              "28         Ouray     USA     184  2020\n",
              "29          Park     USA     185  2021\n",
              "30      Phillips     USA   29000  2021\n",
              "31        Pitkin     USA   27000  2020\n",
              "32       Prowers     USA   45000  2020\n",
              "33        Pueblo     USA   23000  2020\n",
              "34    Rio Blanco     USA   20000  2021\n",
              "35    Rio Grande     USA   18000  2020"
            ],
            "text/html": [
              "\n",
              "  <div id=\"df-b12d6cb0-1c69-45f8-99a0-41e10af734df\" class=\"colab-df-container\">\n",
              "    <div>\n",
              "<style scoped>\n",
              "    .dataframe tbody tr th:only-of-type {\n",
              "        vertical-align: middle;\n",
              "    }\n",
              "\n",
              "    .dataframe tbody tr th {\n",
              "        vertical-align: top;\n",
              "    }\n",
              "\n",
              "    .dataframe thead th {\n",
              "        text-align: right;\n",
              "    }\n",
              "</style>\n",
              "<table border=\"1\" class=\"dataframe\">\n",
              "  <thead>\n",
              "    <tr style=\"text-align: right;\">\n",
              "      <th></th>\n",
              "      <th>State</th>\n",
              "      <th>Country</th>\n",
              "      <th>Deaths</th>\n",
              "      <th>Date</th>\n",
              "    </tr>\n",
              "  </thead>\n",
              "  <tbody>\n",
              "    <tr>\n",
              "      <th>0</th>\n",
              "      <td>California</td>\n",
              "      <td>USA</td>\n",
              "      <td>34000</td>\n",
              "      <td>2020</td>\n",
              "    </tr>\n",
              "    <tr>\n",
              "      <th>1</th>\n",
              "      <td>Texas</td>\n",
              "      <td>USA</td>\n",
              "      <td>29000</td>\n",
              "      <td>2020</td>\n",
              "    </tr>\n",
              "    <tr>\n",
              "      <th>2</th>\n",
              "      <td>Florida</td>\n",
              "      <td>USA</td>\n",
              "      <td>27000</td>\n",
              "      <td>2021</td>\n",
              "    </tr>\n",
              "    <tr>\n",
              "      <th>3</th>\n",
              "      <td>New York</td>\n",
              "      <td>USA</td>\n",
              "      <td>45000</td>\n",
              "      <td>2021</td>\n",
              "    </tr>\n",
              "    <tr>\n",
              "      <th>4</th>\n",
              "      <td>Illinois</td>\n",
              "      <td>USA</td>\n",
              "      <td>23000</td>\n",
              "      <td>2020</td>\n",
              "    </tr>\n",
              "    <tr>\n",
              "      <th>5</th>\n",
              "      <td>Georgia</td>\n",
              "      <td>USA</td>\n",
              "      <td>20000</td>\n",
              "      <td>2021</td>\n",
              "    </tr>\n",
              "    <tr>\n",
              "      <th>6</th>\n",
              "      <td>Ohio</td>\n",
              "      <td>USA</td>\n",
              "      <td>18000</td>\n",
              "      <td>2021</td>\n",
              "    </tr>\n",
              "    <tr>\n",
              "      <th>7</th>\n",
              "      <td>Pennsylvania</td>\n",
              "      <td>USA</td>\n",
              "      <td>21000</td>\n",
              "      <td>2020</td>\n",
              "    </tr>\n",
              "    <tr>\n",
              "      <th>8</th>\n",
              "      <td>Gunnison</td>\n",
              "      <td>USA</td>\n",
              "      <td>1218</td>\n",
              "      <td>2020</td>\n",
              "    </tr>\n",
              "    <tr>\n",
              "      <th>9</th>\n",
              "      <td>Hinsdale</td>\n",
              "      <td>USA</td>\n",
              "      <td>45144</td>\n",
              "      <td>2020</td>\n",
              "    </tr>\n",
              "    <tr>\n",
              "      <th>10</th>\n",
              "      <td>Huerfano</td>\n",
              "      <td>USA</td>\n",
              "      <td>8674</td>\n",
              "      <td>2021</td>\n",
              "    </tr>\n",
              "    <tr>\n",
              "      <th>11</th>\n",
              "      <td>Jackson</td>\n",
              "      <td>USA</td>\n",
              "      <td>942</td>\n",
              "      <td>2021</td>\n",
              "    </tr>\n",
              "    <tr>\n",
              "      <th>12</th>\n",
              "      <td>Jefferson</td>\n",
              "      <td>USA</td>\n",
              "      <td>62123</td>\n",
              "      <td>2020</td>\n",
              "    </tr>\n",
              "    <tr>\n",
              "      <th>13</th>\n",
              "      <td>Kiowa</td>\n",
              "      <td>USA</td>\n",
              "      <td>51467</td>\n",
              "      <td>2021</td>\n",
              "    </tr>\n",
              "    <tr>\n",
              "      <th>14</th>\n",
              "      <td>Kit Carson</td>\n",
              "      <td>USA</td>\n",
              "      <td>19400</td>\n",
              "      <td>2021</td>\n",
              "    </tr>\n",
              "    <tr>\n",
              "      <th>15</th>\n",
              "      <td>La Plata</td>\n",
              "      <td>USA</td>\n",
              "      <td>650</td>\n",
              "      <td>2020</td>\n",
              "    </tr>\n",
              "    <tr>\n",
              "      <th>16</th>\n",
              "      <td>Lake</td>\n",
              "      <td>USA</td>\n",
              "      <td>132</td>\n",
              "      <td>2020</td>\n",
              "    </tr>\n",
              "    <tr>\n",
              "      <th>17</th>\n",
              "      <td>Larimer</td>\n",
              "      <td>USA</td>\n",
              "      <td>42</td>\n",
              "      <td>2020</td>\n",
              "    </tr>\n",
              "    <tr>\n",
              "      <th>18</th>\n",
              "      <td>Las Animas</td>\n",
              "      <td>USA</td>\n",
              "      <td>8234</td>\n",
              "      <td>2021</td>\n",
              "    </tr>\n",
              "    <tr>\n",
              "      <th>19</th>\n",
              "      <td>Lincoln</td>\n",
              "      <td>USA</td>\n",
              "      <td>78</td>\n",
              "      <td>2021</td>\n",
              "    </tr>\n",
              "    <tr>\n",
              "      <th>20</th>\n",
              "      <td>Logan</td>\n",
              "      <td>USA</td>\n",
              "      <td>47</td>\n",
              "      <td>2020</td>\n",
              "    </tr>\n",
              "    <tr>\n",
              "      <th>21</th>\n",
              "      <td>Mesa</td>\n",
              "      <td>USA</td>\n",
              "      <td>63</td>\n",
              "      <td>2021</td>\n",
              "    </tr>\n",
              "    <tr>\n",
              "      <th>22</th>\n",
              "      <td>Mineral</td>\n",
              "      <td>USA</td>\n",
              "      <td>77</td>\n",
              "      <td>2021</td>\n",
              "    </tr>\n",
              "    <tr>\n",
              "      <th>23</th>\n",
              "      <td>Moffat</td>\n",
              "      <td>USA</td>\n",
              "      <td>95</td>\n",
              "      <td>2020</td>\n",
              "    </tr>\n",
              "    <tr>\n",
              "      <th>24</th>\n",
              "      <td>Montezuma</td>\n",
              "      <td>USA</td>\n",
              "      <td>34</td>\n",
              "      <td>2020</td>\n",
              "    </tr>\n",
              "    <tr>\n",
              "      <th>25</th>\n",
              "      <td>Montrose</td>\n",
              "      <td>USA</td>\n",
              "      <td>75</td>\n",
              "      <td>2020</td>\n",
              "    </tr>\n",
              "    <tr>\n",
              "      <th>26</th>\n",
              "      <td>Morgan</td>\n",
              "      <td>USA</td>\n",
              "      <td>46</td>\n",
              "      <td>2021</td>\n",
              "    </tr>\n",
              "    <tr>\n",
              "      <th>27</th>\n",
              "      <td>Otero</td>\n",
              "      <td>USA</td>\n",
              "      <td>251</td>\n",
              "      <td>2021</td>\n",
              "    </tr>\n",
              "    <tr>\n",
              "      <th>28</th>\n",
              "      <td>Ouray</td>\n",
              "      <td>USA</td>\n",
              "      <td>184</td>\n",
              "      <td>2020</td>\n",
              "    </tr>\n",
              "    <tr>\n",
              "      <th>29</th>\n",
              "      <td>Park</td>\n",
              "      <td>USA</td>\n",
              "      <td>185</td>\n",
              "      <td>2021</td>\n",
              "    </tr>\n",
              "    <tr>\n",
              "      <th>30</th>\n",
              "      <td>Phillips</td>\n",
              "      <td>USA</td>\n",
              "      <td>29000</td>\n",
              "      <td>2021</td>\n",
              "    </tr>\n",
              "    <tr>\n",
              "      <th>31</th>\n",
              "      <td>Pitkin</td>\n",
              "      <td>USA</td>\n",
              "      <td>27000</td>\n",
              "      <td>2020</td>\n",
              "    </tr>\n",
              "    <tr>\n",
              "      <th>32</th>\n",
              "      <td>Prowers</td>\n",
              "      <td>USA</td>\n",
              "      <td>45000</td>\n",
              "      <td>2020</td>\n",
              "    </tr>\n",
              "    <tr>\n",
              "      <th>33</th>\n",
              "      <td>Pueblo</td>\n",
              "      <td>USA</td>\n",
              "      <td>23000</td>\n",
              "      <td>2020</td>\n",
              "    </tr>\n",
              "    <tr>\n",
              "      <th>34</th>\n",
              "      <td>Rio Blanco</td>\n",
              "      <td>USA</td>\n",
              "      <td>20000</td>\n",
              "      <td>2021</td>\n",
              "    </tr>\n",
              "    <tr>\n",
              "      <th>35</th>\n",
              "      <td>Rio Grande</td>\n",
              "      <td>USA</td>\n",
              "      <td>18000</td>\n",
              "      <td>2020</td>\n",
              "    </tr>\n",
              "  </tbody>\n",
              "</table>\n",
              "</div>\n",
              "    <div class=\"colab-df-buttons\">\n",
              "\n",
              "  <div class=\"colab-df-container\">\n",
              "    <button class=\"colab-df-convert\" onclick=\"convertToInteractive('df-b12d6cb0-1c69-45f8-99a0-41e10af734df')\"\n",
              "            title=\"Convert this dataframe to an interactive table.\"\n",
              "            style=\"display:none;\">\n",
              "\n",
              "  <svg xmlns=\"http://www.w3.org/2000/svg\" height=\"24px\" viewBox=\"0 -960 960 960\">\n",
              "    <path d=\"M120-120v-720h720v720H120Zm60-500h600v-160H180v160Zm220 220h160v-160H400v160Zm0 220h160v-160H400v160ZM180-400h160v-160H180v160Zm440 0h160v-160H620v160ZM180-180h160v-160H180v160Zm440 0h160v-160H620v160Z\"/>\n",
              "  </svg>\n",
              "    </button>\n",
              "\n",
              "  <style>\n",
              "    .colab-df-container {\n",
              "      display:flex;\n",
              "      gap: 12px;\n",
              "    }\n",
              "\n",
              "    .colab-df-convert {\n",
              "      background-color: #E8F0FE;\n",
              "      border: none;\n",
              "      border-radius: 50%;\n",
              "      cursor: pointer;\n",
              "      display: none;\n",
              "      fill: #1967D2;\n",
              "      height: 32px;\n",
              "      padding: 0 0 0 0;\n",
              "      width: 32px;\n",
              "    }\n",
              "\n",
              "    .colab-df-convert:hover {\n",
              "      background-color: #E2EBFA;\n",
              "      box-shadow: 0px 1px 2px rgba(60, 64, 67, 0.3), 0px 1px 3px 1px rgba(60, 64, 67, 0.15);\n",
              "      fill: #174EA6;\n",
              "    }\n",
              "\n",
              "    .colab-df-buttons div {\n",
              "      margin-bottom: 4px;\n",
              "    }\n",
              "\n",
              "    [theme=dark] .colab-df-convert {\n",
              "      background-color: #3B4455;\n",
              "      fill: #D2E3FC;\n",
              "    }\n",
              "\n",
              "    [theme=dark] .colab-df-convert:hover {\n",
              "      background-color: #434B5C;\n",
              "      box-shadow: 0px 1px 3px 1px rgba(0, 0, 0, 0.15);\n",
              "      filter: drop-shadow(0px 1px 2px rgba(0, 0, 0, 0.3));\n",
              "      fill: #FFFFFF;\n",
              "    }\n",
              "  </style>\n",
              "\n",
              "    <script>\n",
              "      const buttonEl =\n",
              "        document.querySelector('#df-b12d6cb0-1c69-45f8-99a0-41e10af734df button.colab-df-convert');\n",
              "      buttonEl.style.display =\n",
              "        google.colab.kernel.accessAllowed ? 'block' : 'none';\n",
              "\n",
              "      async function convertToInteractive(key) {\n",
              "        const element = document.querySelector('#df-b12d6cb0-1c69-45f8-99a0-41e10af734df');\n",
              "        const dataTable =\n",
              "          await google.colab.kernel.invokeFunction('convertToInteractive',\n",
              "                                                    [key], {});\n",
              "        if (!dataTable) return;\n",
              "\n",
              "        const docLinkHtml = 'Like what you see? Visit the ' +\n",
              "          '<a target=\"_blank\" href=https://colab.research.google.com/notebooks/data_table.ipynb>data table notebook</a>'\n",
              "          + ' to learn more about interactive tables.';\n",
              "        element.innerHTML = '';\n",
              "        dataTable['output_type'] = 'display_data';\n",
              "        await google.colab.output.renderOutput(dataTable, element);\n",
              "        const docLink = document.createElement('div');\n",
              "        docLink.innerHTML = docLinkHtml;\n",
              "        element.appendChild(docLink);\n",
              "      }\n",
              "    </script>\n",
              "  </div>\n",
              "\n",
              "\n",
              "<div id=\"df-615c676a-dcf1-440a-b999-ff8869042537\">\n",
              "  <button class=\"colab-df-quickchart\" onclick=\"quickchart('df-615c676a-dcf1-440a-b999-ff8869042537')\"\n",
              "            title=\"Suggest charts\"\n",
              "            style=\"display:none;\">\n",
              "\n",
              "<svg xmlns=\"http://www.w3.org/2000/svg\" height=\"24px\"viewBox=\"0 0 24 24\"\n",
              "     width=\"24px\">\n",
              "    <g>\n",
              "        <path d=\"M19 3H5c-1.1 0-2 .9-2 2v14c0 1.1.9 2 2 2h14c1.1 0 2-.9 2-2V5c0-1.1-.9-2-2-2zM9 17H7v-7h2v7zm4 0h-2V7h2v10zm4 0h-2v-4h2v4z\"/>\n",
              "    </g>\n",
              "</svg>\n",
              "  </button>\n",
              "\n",
              "<style>\n",
              "  .colab-df-quickchart {\n",
              "      --bg-color: #E8F0FE;\n",
              "      --fill-color: #1967D2;\n",
              "      --hover-bg-color: #E2EBFA;\n",
              "      --hover-fill-color: #174EA6;\n",
              "      --disabled-fill-color: #AAA;\n",
              "      --disabled-bg-color: #DDD;\n",
              "  }\n",
              "\n",
              "  [theme=dark] .colab-df-quickchart {\n",
              "      --bg-color: #3B4455;\n",
              "      --fill-color: #D2E3FC;\n",
              "      --hover-bg-color: #434B5C;\n",
              "      --hover-fill-color: #FFFFFF;\n",
              "      --disabled-bg-color: #3B4455;\n",
              "      --disabled-fill-color: #666;\n",
              "  }\n",
              "\n",
              "  .colab-df-quickchart {\n",
              "    background-color: var(--bg-color);\n",
              "    border: none;\n",
              "    border-radius: 50%;\n",
              "    cursor: pointer;\n",
              "    display: none;\n",
              "    fill: var(--fill-color);\n",
              "    height: 32px;\n",
              "    padding: 0;\n",
              "    width: 32px;\n",
              "  }\n",
              "\n",
              "  .colab-df-quickchart:hover {\n",
              "    background-color: var(--hover-bg-color);\n",
              "    box-shadow: 0 1px 2px rgba(60, 64, 67, 0.3), 0 1px 3px 1px rgba(60, 64, 67, 0.15);\n",
              "    fill: var(--button-hover-fill-color);\n",
              "  }\n",
              "\n",
              "  .colab-df-quickchart-complete:disabled,\n",
              "  .colab-df-quickchart-complete:disabled:hover {\n",
              "    background-color: var(--disabled-bg-color);\n",
              "    fill: var(--disabled-fill-color);\n",
              "    box-shadow: none;\n",
              "  }\n",
              "\n",
              "  .colab-df-spinner {\n",
              "    border: 2px solid var(--fill-color);\n",
              "    border-color: transparent;\n",
              "    border-bottom-color: var(--fill-color);\n",
              "    animation:\n",
              "      spin 1s steps(1) infinite;\n",
              "  }\n",
              "\n",
              "  @keyframes spin {\n",
              "    0% {\n",
              "      border-color: transparent;\n",
              "      border-bottom-color: var(--fill-color);\n",
              "      border-left-color: var(--fill-color);\n",
              "    }\n",
              "    20% {\n",
              "      border-color: transparent;\n",
              "      border-left-color: var(--fill-color);\n",
              "      border-top-color: var(--fill-color);\n",
              "    }\n",
              "    30% {\n",
              "      border-color: transparent;\n",
              "      border-left-color: var(--fill-color);\n",
              "      border-top-color: var(--fill-color);\n",
              "      border-right-color: var(--fill-color);\n",
              "    }\n",
              "    40% {\n",
              "      border-color: transparent;\n",
              "      border-right-color: var(--fill-color);\n",
              "      border-top-color: var(--fill-color);\n",
              "    }\n",
              "    60% {\n",
              "      border-color: transparent;\n",
              "      border-right-color: var(--fill-color);\n",
              "    }\n",
              "    80% {\n",
              "      border-color: transparent;\n",
              "      border-right-color: var(--fill-color);\n",
              "      border-bottom-color: var(--fill-color);\n",
              "    }\n",
              "    90% {\n",
              "      border-color: transparent;\n",
              "      border-bottom-color: var(--fill-color);\n",
              "    }\n",
              "  }\n",
              "</style>\n",
              "\n",
              "  <script>\n",
              "    async function quickchart(key) {\n",
              "      const quickchartButtonEl =\n",
              "        document.querySelector('#' + key + ' button');\n",
              "      quickchartButtonEl.disabled = true;  // To prevent multiple clicks.\n",
              "      quickchartButtonEl.classList.add('colab-df-spinner');\n",
              "      try {\n",
              "        const charts = await google.colab.kernel.invokeFunction(\n",
              "            'suggestCharts', [key], {});\n",
              "      } catch (error) {\n",
              "        console.error('Error during call to suggestCharts:', error);\n",
              "      }\n",
              "      quickchartButtonEl.classList.remove('colab-df-spinner');\n",
              "      quickchartButtonEl.classList.add('colab-df-quickchart-complete');\n",
              "    }\n",
              "    (() => {\n",
              "      let quickchartButtonEl =\n",
              "        document.querySelector('#df-615c676a-dcf1-440a-b999-ff8869042537 button');\n",
              "      quickchartButtonEl.style.display =\n",
              "        google.colab.kernel.accessAllowed ? 'block' : 'none';\n",
              "    })();\n",
              "  </script>\n",
              "</div>\n",
              "\n",
              "    </div>\n",
              "  </div>\n"
            ],
            "application/vnd.google.colaboratory.intrinsic+json": {
              "type": "dataframe",
              "summary": "{\n  \"name\": \"df = pd\",\n  \"rows\": 36,\n  \"fields\": [\n    {\n      \"column\": \"State\",\n      \"properties\": {\n        \"dtype\": \"string\",\n        \"num_unique_values\": 36,\n        \"samples\": [\n          \"Rio Grande\",\n          \"Kiowa\",\n          \"Morgan\"\n        ],\n        \"semantic_type\": \"\",\n        \"description\": \"\"\n      }\n    },\n    {\n      \"column\": \"Country\",\n      \"properties\": {\n        \"dtype\": \"category\",\n        \"num_unique_values\": 1,\n        \"samples\": [\n          \"USA\"\n        ],\n        \"semantic_type\": \"\",\n        \"description\": \"\"\n      }\n    },\n    {\n      \"column\": \"Deaths\",\n      \"properties\": {\n        \"dtype\": \"number\",\n        \"std\": 17789,\n        \"min\": 34,\n        \"max\": 62123,\n        \"num_unique_values\": 30,\n        \"samples\": [\n          251\n        ],\n        \"semantic_type\": \"\",\n        \"description\": \"\"\n      }\n    },\n    {\n      \"column\": \"Date\",\n      \"properties\": {\n        \"dtype\": \"number\",\n        \"std\": 0,\n        \"min\": 2020,\n        \"max\": 2021,\n        \"num_unique_values\": 2,\n        \"samples\": [\n          2021\n        ],\n        \"semantic_type\": \"\",\n        \"description\": \"\"\n      }\n    }\n  ]\n}"
            }
          },
          "metadata": {}
        }
      ]
    },
    {
      "cell_type": "markdown",
      "source": [
        "1)**Top 10 states having highest total death in the year 2020.**"
      ],
      "metadata": {
        "id": "w4G8xhAFwE2X"
      }
    },
    {
      "cell_type": "code",
      "source": [
        "df_2020 = df[df['Date'] == 2020]\n",
        "\n",
        "state_death_totals = df_2020.groupby('State')['Deaths'].sum().reset_index()\n",
        "\n",
        "top_states = state_death_totals.sort_values(by='Deaths', ascending=False).head(10)\n",
        "\n",
        "top_states.reset_index(drop=True, inplace=True)\n",
        "\n",
        "print(top_states)"
      ],
      "metadata": {
        "colab": {
          "base_uri": "https://localhost:8080/"
        },
        "id": "rvwApwL-VU1d",
        "outputId": "74e7cd80-bb03-4a5f-9908-c50ba6c506be"
      },
      "execution_count": null,
      "outputs": [
        {
          "output_type": "stream",
          "name": "stdout",
          "text": [
            "          State  Deaths\n",
            "0     Jefferson   62123\n",
            "1      Hinsdale   45144\n",
            "2       Prowers   45000\n",
            "3    California   34000\n",
            "4         Texas   29000\n",
            "5        Pitkin   27000\n",
            "6      Illinois   23000\n",
            "7        Pueblo   23000\n",
            "8  Pennsylvania   21000\n",
            "9    Rio Grande   18000\n"
          ]
        }
      ]
    },
    {
      "cell_type": "markdown",
      "source": [
        "2)**Top 10 states having highest total death in the year 2021.**"
      ],
      "metadata": {
        "id": "vjFNnU3iwKru"
      }
    },
    {
      "cell_type": "code",
      "source": [
        "df_2021 = df[df['Date'] == 2021]\n",
        "\n",
        "state_death_totals = df_2021.groupby('State')['Deaths'].sum().reset_index()\n",
        "\n",
        "top_states = state_death_totals.sort_values(by='Deaths', ascending=False).head(10)\n",
        "\n",
        "top_states.reset_index(drop=True, inplace=True)\n",
        "\n",
        "print(top_states)"
      ],
      "metadata": {
        "colab": {
          "base_uri": "https://localhost:8080/"
        },
        "id": "Yn4XAdqzVhCn",
        "outputId": "958a906f-0f1d-4ea3-c0df-14189c5df4ef"
      },
      "execution_count": null,
      "outputs": [
        {
          "output_type": "stream",
          "name": "stdout",
          "text": [
            "        State  Deaths\n",
            "0       Kiowa   51467\n",
            "1    New York   45000\n",
            "2    Phillips   29000\n",
            "3     Florida   27000\n",
            "4     Georgia   20000\n",
            "5  Rio Blanco   20000\n",
            "6  Kit Carson   19400\n",
            "7        Ohio   18000\n",
            "8    Huerfano    8674\n",
            "9  Las Animas    8234\n"
          ]
        }
      ]
    },
    {
      "cell_type": "markdown",
      "source": [
        "3)**Top 10 states having highest average death in the year 2020.**"
      ],
      "metadata": {
        "id": "0kfhGlyowPTm"
      }
    },
    {
      "cell_type": "code",
      "source": [
        "df_2020 = df[df['Date'] == 2020]\n",
        "\n",
        "average_deaths_2020 = df_2020.groupby('State')['Deaths'].mean().reset_index()\n",
        "\n",
        "top_average_states_2020 = average_deaths_2020.sort_values(by='Deaths', ascending=False).head(10)\n",
        "\n",
        "top_average_states_2020.reset_index(drop=True, inplace=True)\n",
        "\n",
        "print(\"Top 10 States with Highest Average Deaths in 2020:\")\n",
        "print(top_average_states_2020)"
      ],
      "metadata": {
        "colab": {
          "base_uri": "https://localhost:8080/"
        },
        "id": "IgXS8JPTXDo8",
        "outputId": "49fdeaa5-512a-454b-eb97-0a9c4484f5a9"
      },
      "execution_count": null,
      "outputs": [
        {
          "output_type": "stream",
          "name": "stdout",
          "text": [
            "Top 10 States with Highest Average Deaths in 2020:\n",
            "          State   Deaths\n",
            "0     Jefferson  62123.0\n",
            "1      Hinsdale  45144.0\n",
            "2       Prowers  45000.0\n",
            "3    California  34000.0\n",
            "4         Texas  29000.0\n",
            "5        Pitkin  27000.0\n",
            "6      Illinois  23000.0\n",
            "7        Pueblo  23000.0\n",
            "8  Pennsylvania  21000.0\n",
            "9    Rio Grande  18000.0\n"
          ]
        }
      ]
    },
    {
      "cell_type": "markdown",
      "source": [
        "4)**Top 10 states having highest average death in the year 2021.**"
      ],
      "metadata": {
        "id": "RYI3DmtTwTs9"
      }
    },
    {
      "cell_type": "code",
      "source": [
        "df_2021 = df[df['Date'] == 2021]\n",
        "\n",
        "average_deaths_2021 = df_2021.groupby('State')['Deaths'].mean().reset_index()\n",
        "\n",
        "top_average_states_2021 = average_deaths_2021.sort_values(by='Deaths', ascending=False).head(10)\n",
        "\n",
        "top_average_states_2021.reset_index(drop=True, inplace=True)\n",
        "\n",
        "print(\"\\nTop 10 States with Highest Average Deaths in 2021:\")\n",
        "print(top_average_states_2021)"
      ],
      "metadata": {
        "colab": {
          "base_uri": "https://localhost:8080/"
        },
        "id": "tcQwHpswXeK3",
        "outputId": "b5b1beb2-676b-4f53-93e9-c153fd939d97"
      },
      "execution_count": null,
      "outputs": [
        {
          "output_type": "stream",
          "name": "stdout",
          "text": [
            "\n",
            "Top 10 States with Highest Average Deaths in 2021:\n",
            "        State   Deaths\n",
            "0       Kiowa  51467.0\n",
            "1    New York  45000.0\n",
            "2    Phillips  29000.0\n",
            "3     Florida  27000.0\n",
            "4     Georgia  20000.0\n",
            "5  Rio Blanco  20000.0\n",
            "6  Kit Carson  19400.0\n",
            "7        Ohio  18000.0\n",
            "8    Huerfano   8674.0\n",
            "9  Las Animas   8234.0\n"
          ]
        }
      ]
    },
    {
      "cell_type": "markdown",
      "source": [
        "5)**Top 10 county having highest total death in 2020 and 2021 year together.**"
      ],
      "metadata": {
        "id": "57jzebUxwXzc"
      }
    },
    {
      "cell_type": "code",
      "source": [
        "combined_df = df[df['Date'].isin([2020, 2021])]\n",
        "\n",
        "country_death_totals = combined_df.groupby('Country')['Deaths'].sum().reset_index()\n",
        "\n",
        "top_country_deaths = country_death_totals.sort_values(by='Deaths', ascending=False).head(10)\n",
        "\n",
        "top_country_deaths.reset_index(drop=True, inplace=True)\n",
        "\n",
        "print(\"\\nTop 10 Counties with Highest Total Deaths in 2020 and 2021 Combined:\")\n",
        "print(top_country_deaths)"
      ],
      "metadata": {
        "colab": {
          "base_uri": "https://localhost:8080/"
        },
        "id": "N79z9XcoXsPA",
        "outputId": "d4135d50-6101-460c-a614-9d43e6d02f35"
      },
      "execution_count": null,
      "outputs": [
        {
          "output_type": "stream",
          "name": "stdout",
          "text": [
            "\n",
            "Top 10 Counties with Highest Total Deaths in 2020 and 2021 Combined:\n",
            "  Country  Deaths\n",
            "0     USA  578161\n"
          ]
        }
      ]
    },
    {
      "cell_type": "markdown",
      "source": [
        "6)**Find/print all pair of counties that have the same name but belong to two different states.**"
      ],
      "metadata": {
        "id": "4LXKkhhqwbzZ"
      }
    },
    {
      "cell_type": "code",
      "source": [
        "country_groups = df.groupby('Country')['State'].unique().reset_index()\n",
        "\n",
        "multi_state_counties = country_groups[country_groups['State'].str.len() > 1]\n",
        "\n",
        "country_pairs = []\n",
        "\n",
        "for index, row in multi_state_counties.iterrows():\n",
        "    states = row['State']\n",
        "    for i in range(len(states)):\n",
        "        for j in range(i + 1, len(states)):\n",
        "            country_pairs.append((row['Country'], states[i], states[j]))\n",
        "\n",
        "county_pairs_df = pd.DataFrame(country_pairs, columns=['Country', 'State1', 'State2'])\n",
        "\n",
        "print(\"Pairs of Countries with the Same Name in Different States:\")\n",
        "print(county_pairs_df)"
      ],
      "metadata": {
        "colab": {
          "base_uri": "https://localhost:8080/"
        },
        "id": "QwpTXCQ0YqcB",
        "outputId": "ccf15f9e-c82f-4e08-9e74-f4f6dabf0db6"
      },
      "execution_count": null,
      "outputs": [
        {
          "output_type": "stream",
          "name": "stdout",
          "text": [
            "Pairs of Countries with the Same Name in Different States:\n",
            "    Country      State1      State2\n",
            "0       USA  California       Texas\n",
            "1       USA  California     Florida\n",
            "2       USA  California    New York\n",
            "3       USA  California    Illinois\n",
            "4       USA  California     Georgia\n",
            "..      ...         ...         ...\n",
            "625     USA     Prowers  Rio Blanco\n",
            "626     USA     Prowers  Rio Grande\n",
            "627     USA      Pueblo  Rio Blanco\n",
            "628     USA      Pueblo  Rio Grande\n",
            "629     USA  Rio Blanco  Rio Grande\n",
            "\n",
            "[630 rows x 3 columns]\n"
          ]
        }
      ]
    },
    {
      "cell_type": "markdown",
      "source": [
        "7)**Find/print all pair of counties that have the same name but belong to two different states.**\n",
        "         **a) Top 10 least death states in 2020**\n",
        "          **b)Top 10 least death states in 2021**"
      ],
      "metadata": {
        "id": "2FQOxJ9Iwkti"
      }
    },
    {
      "cell_type": "code",
      "source": [
        "def get_least_death_states(year, n):\n",
        "    df_year = df[df['Date'] == year]\n",
        "\n",
        "    state_death_totals = df_year.groupby('State')['Deaths'].sum().reset_index()\n",
        "\n",
        "    least_death_states = state_death_totals.sort_values(by='Deaths').head(n)\n",
        "\n",
        "    least_death_states['Rank'] = range(1, len(least_death_states) + 1)\n",
        "\n",
        "    print(f\"\\nTop {n} Least Death States in {year}:\")\n",
        "    print(least_death_states[['State', 'Deaths', 'Rank']])\n",
        "\n",
        "get_least_death_states(2020, 10)\n",
        "\n",
        "get_least_death_states(2021, 10)\n",
        "\n"
      ],
      "metadata": {
        "colab": {
          "base_uri": "https://localhost:8080/"
        },
        "id": "uBuiSWUfZ68F",
        "outputId": "f55970da-637d-4828-9982-2db6fb99ba1b"
      },
      "execution_count": null,
      "outputs": [
        {
          "output_type": "stream",
          "name": "stdout",
          "text": [
            "\n",
            "Top 10 Least Death States in 2020:\n",
            "         State  Deaths  Rank\n",
            "10   Montezuma      34     1\n",
            "7      Larimer      42     2\n",
            "8        Logan      47     3\n",
            "11    Montrose      75     4\n",
            "9       Moffat      95     5\n",
            "6         Lake     132     6\n",
            "12       Ouray     184     7\n",
            "5     La Plata     650     8\n",
            "1     Gunnison    1218     9\n",
            "17  Rio Grande   18000    10\n",
            "\n",
            "Top 10 Least Death States in 2021:\n",
            "         State  Deaths  Rank\n",
            "10      Morgan      46     1\n",
            "8         Mesa      63     2\n",
            "9      Mineral      77     3\n",
            "7      Lincoln      78     4\n",
            "14        Park     185     5\n",
            "13       Otero     251     6\n",
            "3      Jackson     942     7\n",
            "6   Las Animas    8234     8\n",
            "2     Huerfano    8674     9\n",
            "12        Ohio   18000    10\n"
          ]
        }
      ]
    },
    {
      "cell_type": "markdown",
      "source": [
        "8)**Print Top N states in the last three months of the year 2021. Also needed to be ranked. Also right this output as a file in folder /content/drive/MyDrive/data_preprocessing with header and no index.\n",
        "          a)Top 10 least death states in last three months of the year 2021\n",
        "           b)Top 10 most death states in last three months of the year 2021**"
      ],
      "metadata": {
        "id": "Y1q0wcwOw5sc"
      }
    },
    {
      "cell_type": "code",
      "source": [
        "\n",
        "\n",
        "df['Date'] = pd.to_datetime(df['Date'])\n",
        "\n",
        "# Filter for the last three months of 2021 (October, November, December)\n",
        "df_last_3_months = df[(df['Date'] >= '2021-10-01') & (df['Date'] <= '2021-12-31')]\n",
        "\n",
        "# Group by state and sum the deaths\n",
        "total_deaths = df_last_3_months.groupby('State')['Deaths'].sum().reset_index()\n",
        "\n",
        "# Top 10 least deaths\n",
        "least_death_states = total_deaths.sort_values(by='Deaths').head(10)\n",
        "least_death_states['Rank'] = range(1, len(least_death_states) + 1)\n",
        "\n",
        "# Top 10 most deaths\n",
        "most_death_states = total_deaths.sort_values(by='Deaths', ascending=False).head(10)\n",
        "most_death_states['Rank'] = range(1, len(most_death_states) + 1)\n",
        "\n",
        "# Write results to files\n",
        "output_folder = '/content/gdrive/My Drive/mini project/'\n",
        "least_death_file = output_folder + 'top_10_least_death_states_last_3_months_2021.csv'\n",
        "most_death_file = output_folder + 'top_10_most_death_states_last_3_months_2021.csv'\n",
        "\n",
        "# Save to CSV with header and no index\n",
        "least_death_states.to_csv(least_death_file, index=False, header=True)\n",
        "most_death_states.to_csv(most_death_file, index=False, header=True)\n",
        "\n",
        "# Output the file paths\n",
        "print(f\"Top 10 least death states saved to: {least_death_file}\")\n",
        "print(f\"Top 10 most death states saved to: {most_death_file}\")"
      ],
      "metadata": {
        "colab": {
          "base_uri": "https://localhost:8080/"
        },
        "id": "Q1S_uOjiaEKW",
        "outputId": "8c3b6b04-6150-4da0-e843-ff2f4005ef24"
      },
      "execution_count": null,
      "outputs": [
        {
          "output_type": "stream",
          "name": "stdout",
          "text": [
            "Top 10 least death states saved to: /content/gdrive/My Drive/mini project/top_10_least_death_states_last_3_months_2021.csv\n",
            "Top 10 most death states saved to: /content/gdrive/My Drive/mini project/top_10_most_death_states_last_3_months_2021.csv\n"
          ]
        }
      ]
    }
  ]
}